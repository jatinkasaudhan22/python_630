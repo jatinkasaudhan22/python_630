{
 "cells": [
  {
   "cell_type": "code",
   "execution_count": null,
   "id": "4994a692",
   "metadata": {},
   "outputs": [],
   "source": [
    "# function\n",
    "# user_defined\n",
    "# pre_defined"
   ]
  },
  {
   "cell_type": "code",
   "execution_count": null,
   "id": "7e8f6827",
   "metadata": {},
   "outputs": [],
   "source": [
    "# # pre defined\n",
    "# print() int() float() str() type() list() tuple() dict() set()"
   ]
  },
  {
   "cell_type": "code",
   "execution_count": 1,
   "id": "60d6efb3",
   "metadata": {},
   "outputs": [
    {
     "ename": "SyntaxError",
     "evalue": "invalid syntax (8700348.py, line 3)",
     "output_type": "error",
     "traceback": [
      "\u001b[1;36m  Cell \u001b[1;32mIn[1], line 3\u001b[1;36m\u001b[0m\n\u001b[1;33m    <operations>\u001b[0m\n\u001b[1;37m    ^\u001b[0m\n\u001b[1;31mSyntaxError\u001b[0m\u001b[1;31m:\u001b[0m invalid syntax\n"
     ]
    }
   ],
   "source": [
    "# # user defined\n",
    "# def <function_name>:\n",
    "<operations>\n",
    "\n",
    "# <function_name>()"
   ]
  },
  {
   "cell_type": "code",
   "execution_count": 1,
   "id": "d4280736",
   "metadata": {},
   "outputs": [
    {
     "name": "stdout",
     "output_type": "stream",
     "text": [
      "Hello World\n"
     ]
    }
   ],
   "source": [
    "def hello():   #defining\n",
    "    print(\"Hello World\")\n",
    "    \n",
    "hello() #call\n"
   ]
  },
  {
   "cell_type": "code",
   "execution_count": 7,
   "id": "0b23c24a",
   "metadata": {},
   "outputs": [
    {
     "name": "stdout",
     "output_type": "stream",
     "text": [
      "Enter l = 10\n",
      "Enter b = 2\n",
      "Enter h = 3\n",
      "60\n"
     ]
    }
   ],
   "source": [
    "def cal():\n",
    "    l = int(input(\"Enter l = \")) #local variable\n",
    "    b = int(input(\"Enter b = \")) #local variable\n",
    "    h = int(input(\"Enter h = \")) #local variable\n",
    "    v = l*b*h\n",
    "    print(v)\n",
    "    \n",
    "cal()\n",
    "# print(l,b,h) (it gives error since local variable is call only inside fun)"
   ]
  },
  {
   "cell_type": "code",
   "execution_count": 8,
   "id": "71718472",
   "metadata": {},
   "outputs": [
    {
     "name": "stdout",
     "output_type": "stream",
     "text": [
      "Enter l = 20\n",
      "Enter b = 4\n",
      "Enter h = 2\n",
      "160\n"
     ]
    }
   ],
   "source": [
    "cal()"
   ]
  },
  {
   "cell_type": "code",
   "execution_count": 11,
   "id": "5bd9c9f0",
   "metadata": {},
   "outputs": [
    {
     "name": "stdout",
     "output_type": "stream",
     "text": [
      "Enter l = 10\n",
      "Enter b = 4\n",
      "Enter h = 4\n",
      "160\n"
     ]
    }
   ],
   "source": [
    "l = int(input(\"Enter l = \")) #global variable\n",
    "b = int(input(\"Enter b = \")) #global variable\n",
    "h = int(input(\"Enter h = \")) #global variable\n",
    "def cal():\n",
    "    v = l*b*h\n",
    "    print(v)\n",
    "  \n",
    "cal()\n",
    "    #print(l,b,h)"
   ]
  },
  {
   "cell_type": "code",
   "execution_count": 1,
   "id": "fd88b327",
   "metadata": {},
   "outputs": [
    {
     "name": "stdout",
     "output_type": "stream",
     "text": [
      "Enter l = 10\n",
      "Enter b = 2\n",
      "Enter h = 3\n",
      "60\n",
      "10 2 3\n"
     ]
    }
   ],
   "source": [
    "def cal():\n",
    "    global l,b,h\n",
    "    l = int(input(\"Enter l = \")) #local variable\n",
    "    b = int(input(\"Enter b = \")) #local variable\n",
    "    h = int(input(\"Enter h = \")) #local variable\n",
    "    v = l*b*h\n",
    "    print(v)\n",
    "   \n",
    "cal()\n",
    "print(l,b,h)"
   ]
  },
  {
   "cell_type": "code",
   "execution_count": 13,
   "id": "e0a1afc4",
   "metadata": {},
   "outputs": [],
   "source": [
    "# function without argument and no return type\n",
    "# function with argument and no return type\n",
    "# function without argument and return type\n",
    "# function with argument and return type"
   ]
  },
  {
   "cell_type": "code",
   "execution_count": 14,
   "id": "ba8dd28c",
   "metadata": {},
   "outputs": [
    {
     "name": "stdout",
     "output_type": "stream",
     "text": [
      "Hello world\n"
     ]
    }
   ],
   "source": [
    "def hello(x):  # parameter\n",
    "    print(x)\n",
    "\n",
    "hello(\"Hello world\") #argument"
   ]
  },
  {
   "cell_type": "code",
   "execution_count": 2,
   "id": "2a254a7e",
   "metadata": {},
   "outputs": [
    {
     "name": "stdout",
     "output_type": "stream",
     "text": [
      "Enter l = 10\n",
      "Enter b = 2\n",
      "Enter h = 3\n",
      "60\n"
     ]
    }
   ],
   "source": [
    "# function with argument and no return type\n",
    "def cal(x,y,z):  # xyz are parameters\n",
    "    v = x*y*z\n",
    "    print(v)\n",
    "    \n",
    "l = int(input(\"Enter l = \")) #global variable...look intendation\n",
    "b = int(input(\"Enter b = \")) #global variable\n",
    "h = int(input(\"Enter h = \")) #global variable\n",
    "cal(l,b,h)"
   ]
  },
  {
   "cell_type": "code",
   "execution_count": 18,
   "id": "852dcda0",
   "metadata": {},
   "outputs": [
    {
     "name": "stdout",
     "output_type": "stream",
     "text": [
      "Php\n",
      "C\n",
      "C++\n",
      "Java\n",
      "Python\n"
     ]
    }
   ],
   "source": [
    "def lan(language = \"Python\"):\n",
    "    print(language)\n",
    " \n",
    "lan(\"Php\") # priority is given to argument than parameter in function\n",
    "lan(\"C\")\n",
    "lan(\"C++\")\n",
    "lan(\"Java\")\n",
    "lan()"
   ]
  },
  {
   "cell_type": "code",
   "execution_count": 4,
   "id": "ee38cc4f",
   "metadata": {},
   "outputs": [
    {
     "name": "stdout",
     "output_type": "stream",
     "text": [
      "hello world\n"
     ]
    }
   ],
   "source": [
    "# return type function (IMP)\n",
    "def hello():\n",
    "    return \"hello world\"\n",
    "\n",
    "print(hello())"
   ]
  },
  {
   "cell_type": "code",
   "execution_count": 17,
   "id": "55121b55",
   "metadata": {},
   "outputs": [
    {
     "name": "stdout",
     "output_type": "stream",
     "text": [
      "Enter l = 10\n",
      "Enter b = 20\n",
      "Enter h = 30\n",
      "200\n",
      "6000\n"
     ]
    }
   ],
   "source": [
    "def cal():\n",
    "    l = int(input(\"Enter l = \")) #local variable\n",
    "    b = int(input(\"Enter b = \")) #local variable\n",
    "    h = int(input(\"Enter h = \")) #local variable\n",
    "    a = l*b\n",
    "    v = a*h\n",
    "    return a,v\n",
    "    \n",
    "area,volume = cal()\n",
    "#print(cal)\n",
    "print(area)\n",
    "print(volume)"
   ]
  },
  {
   "cell_type": "code",
   "execution_count": 6,
   "id": "97eea2a8",
   "metadata": {},
   "outputs": [
    {
     "data": {
      "text/plain": [
       "(10, 11)"
      ]
     },
     "execution_count": 6,
     "metadata": {},
     "output_type": "execute_result"
    }
   ],
   "source": [
    "a = 10,11\n",
    "a\n"
   ]
  },
  {
   "cell_type": "code",
   "execution_count": 7,
   "id": "fae84419",
   "metadata": {},
   "outputs": [
    {
     "name": "stdout",
     "output_type": "stream",
     "text": [
      "10\n",
      "11\n"
     ]
    }
   ],
   "source": [
    "x,y = a\n",
    "print(x)\n",
    "print(y)"
   ]
  },
  {
   "cell_type": "code",
   "execution_count": 8,
   "id": "9a668f47",
   "metadata": {},
   "outputs": [
    {
     "name": "stdout",
     "output_type": "stream",
     "text": [
      "3.141592653589793\n"
     ]
    }
   ],
   "source": [
    "# Math function\n",
    "import math as m\n",
    "print(m.pi)"
   ]
  },
  {
   "cell_type": "code",
   "execution_count": 10,
   "id": "348e2e0a",
   "metadata": {},
   "outputs": [
    {
     "data": {
      "text/plain": [
       "100.0"
      ]
     },
     "execution_count": 10,
     "metadata": {},
     "output_type": "execute_result"
    }
   ],
   "source": [
    "m.pow(10,2)"
   ]
  },
  {
   "cell_type": "code",
   "execution_count": 11,
   "id": "baf1802d",
   "metadata": {},
   "outputs": [
    {
     "data": {
      "text/plain": [
       "120"
      ]
     },
     "execution_count": 11,
     "metadata": {},
     "output_type": "execute_result"
    }
   ],
   "source": [
    "m.factorial(5)"
   ]
  },
  {
   "cell_type": "code",
   "execution_count": 15,
   "id": "14f5cb4c",
   "metadata": {},
   "outputs": [
    {
     "data": {
      "text/plain": [
       "1.0"
      ]
     },
     "execution_count": 15,
     "metadata": {},
     "output_type": "execute_result"
    }
   ],
   "source": [
    "m.sin(90) # we have to use in terms of pi\n",
    "m.sin(m.pi/2)"
   ]
  },
  {
   "cell_type": "code",
   "execution_count": null,
   "id": "ceeb31cf",
   "metadata": {},
   "outputs": [
    {
     "name": "stdout",
     "output_type": "stream",
     "text": [
      "Hello World\n",
      "press Enter for more input \n",
      "Hello World\n",
      "press Enter for more input \n",
      "Hello World\n"
     ]
    }
   ],
   "source": [
    "# recursive function\n",
    "def hello():\n",
    "    print(\"Hello World\")\n",
    "    x = input(\"press Enter for more input \")\n",
    "    if x == '':\n",
    "        hello()\n",
    "\n",
    "hello()"
   ]
  },
  {
   "cell_type": "code",
   "execution_count": null,
   "id": "50631279",
   "metadata": {},
   "outputs": [],
   "source": [
    "# lambda function\n",
    "\n",
    "# x = lambda <argument>:<expression or operation>\n",
    "# x(<argument)\n"
   ]
  },
  {
   "cell_type": "code",
   "execution_count": 1,
   "id": "546b0e3f",
   "metadata": {},
   "outputs": [
    {
     "name": "stdout",
     "output_type": "stream",
     "text": [
      "9\n"
     ]
    }
   ],
   "source": [
    "x = lambda x:x**2\n",
    "print(x(3))"
   ]
  },
  {
   "cell_type": "code",
   "execution_count": 2,
   "id": "2c303d63",
   "metadata": {},
   "outputs": [
    {
     "name": "stdout",
     "output_type": "stream",
     "text": [
      "6\n"
     ]
    }
   ],
   "source": [
    "x = lambda l,b:l*b\n",
    "print(x(2,3))"
   ]
  },
  {
   "cell_type": "code",
   "execution_count": 5,
   "id": "d84d8cdf",
   "metadata": {},
   "outputs": [
    {
     "data": {
      "text/plain": [
       "[2, 4, 54, 8, 78, 12]"
      ]
     },
     "execution_count": 5,
     "metadata": {},
     "output_type": "execute_result"
    }
   ],
   "source": [
    "# filter\n",
    "a = [1,2,3,4,54,67,8,65,78,12,33,35]\n",
    "list(filter(lambda x:x%2==0, a))\n"
   ]
  },
  {
   "cell_type": "code",
   "execution_count": 9,
   "id": "d128a16f",
   "metadata": {},
   "outputs": [
    {
     "data": {
      "text/plain": [
       "['APPLE', 'BALL', 'FISH']"
      ]
     },
     "execution_count": 9,
     "metadata": {},
     "output_type": "execute_result"
    }
   ],
   "source": [
    "a = [\"APPLE\", \"BALL\",\"cat\", \"dog\", \"FISH\"]\n",
    "list(filter(lambda x :x.isupper(), a))"
   ]
  },
  {
   "cell_type": "code",
   "execution_count": 10,
   "id": "882d5237",
   "metadata": {},
   "outputs": [
    {
     "data": {
      "text/plain": [
       "[1, 2, 3, 4, 5, 1, 2, 3, 4, 5]"
      ]
     },
     "execution_count": 10,
     "metadata": {},
     "output_type": "execute_result"
    }
   ],
   "source": [
    "# map \n",
    "a = [1,2,3,4,5]\n",
    "a*2"
   ]
  },
  {
   "cell_type": "code",
   "execution_count": 13,
   "id": "afb53304",
   "metadata": {},
   "outputs": [
    {
     "data": {
      "text/plain": [
       "[1, 4, 9, 16, 25]"
      ]
     },
     "execution_count": 13,
     "metadata": {},
     "output_type": "execute_result"
    }
   ],
   "source": [
    "a = [1,2,3,4,5]\n",
    "list(map(lambda x:x**2,a))\n"
   ]
  },
  {
   "cell_type": "code",
   "execution_count": 16,
   "id": "5d85e544",
   "metadata": {},
   "outputs": [
    {
     "data": {
      "text/plain": [
       "['apple', 'ball', 'cat', 'dog', 'fish']"
      ]
     },
     "execution_count": 16,
     "metadata": {},
     "output_type": "execute_result"
    }
   ],
   "source": [
    "a = [\"APPLE\", \"BALL\",\"cat\", \"dog\", \"FISH\"]\n",
    "list(map(lambda x:x.lower(),a)) # to use values of list map is used"
   ]
  },
  {
   "cell_type": "code",
   "execution_count": null,
   "id": "9b24f229",
   "metadata": {},
   "outputs": [],
   "source": []
  }
 ],
 "metadata": {
  "kernelspec": {
   "display_name": "Python 3 (ipykernel)",
   "language": "python",
   "name": "python3"
  },
  "language_info": {
   "codemirror_mode": {
    "name": "ipython",
    "version": 3
   },
   "file_extension": ".py",
   "mimetype": "text/x-python",
   "name": "python",
   "nbconvert_exporter": "python",
   "pygments_lexer": "ipython3",
   "version": "3.10.9"
  }
 },
 "nbformat": 4,
 "nbformat_minor": 5
}
