{
 "cells": [
  {
   "cell_type": "code",
   "execution_count": 3,
   "id": "4fa5f52f",
   "metadata": {},
   "outputs": [
    {
     "name": "stdout",
     "output_type": "stream",
     "text": [
      "<class 'str'> <class 'str'>\n"
     ]
    }
   ],
   "source": [
    "a = 'Hello world'\n",
    "b = \"Hello World\"\n",
    "c ='' Hello world''\n",
    "\n",
    "print(type(a),type(b),type(c))"
   ]
  },
  {
   "cell_type": "code",
   "execution_count": 6,
   "id": "6219255d",
   "metadata": {},
   "outputs": [
    {
     "name": "stdout",
     "output_type": "stream",
     "text": [
      "Hello world \n",
      "Hello world \n",
      "\n"
     ]
    }
   ],
   "source": [
    "a = \"Hello world \\n\"\n",
    "print(a*2)"
   ]
  },
  {
   "cell_type": "code",
   "execution_count": 7,
   "id": "087202a2",
   "metadata": {},
   "outputs": [
    {
     "name": "stdout",
     "output_type": "stream",
     "text": [
      "H I am Python\n",
      "e I am Python\n",
      "l I am Python\n",
      "l I am Python\n",
      "o I am Python\n",
      "  I am Python\n",
      "w I am Python\n",
      "o I am Python\n",
      "r I am Python\n",
      "l I am Python\n",
      "d I am Python\n"
     ]
    }
   ],
   "source": [
    "a = \"Hello world\"\n",
    "for i in a:\n",
    "    print(i,\"I am Python\")"
   ]
  },
  {
   "cell_type": "code",
   "execution_count": 13,
   "id": "0d5a3618",
   "metadata": {},
   "outputs": [
    {
     "name": "stdout",
     "output_type": "stream",
     "text": [
      "H\n",
      "Hello\n",
      "HloWrdIa\n"
     ]
    }
   ],
   "source": [
    "a = \"Hello World I am Python\"\n",
    "print(a[0])\n",
    "print(a[0:5])\n",
    "print(a[0:15:2])"
   ]
  },
  {
   "cell_type": "code",
   "execution_count": 21,
   "id": "163a8ae8",
   "metadata": {},
   "outputs": [
    {
     "name": "stdout",
     "output_type": "stream",
     "text": [
      "y\n"
     ]
    }
   ],
   "source": [
    "a = \"Python\"\n",
    "print(a[-5])"
   ]
  },
  {
   "cell_type": "code",
   "execution_count": 23,
   "id": "a88e2ba9",
   "metadata": {},
   "outputs": [
    {
     "name": "stdout",
     "output_type": "stream",
     "text": [
      "nohty\n"
     ]
    }
   ],
   "source": [
    "a = \"Python\"\n",
    "print(a[-1:0:-1])"
   ]
  },
  {
   "cell_type": "code",
   "execution_count": 4,
   "id": "0a5abcdb",
   "metadata": {},
   "outputs": [
    {
     "name": "stdout",
     "output_type": "stream",
     "text": [
      "\n"
     ]
    }
   ],
   "source": [
    "a = \"Python\"\n",
    "print(a[-1:-1:-1])"
   ]
  },
  {
   "cell_type": "code",
   "execution_count": 5,
   "id": "d853fba8",
   "metadata": {},
   "outputs": [
    {
     "name": "stdout",
     "output_type": "stream",
     "text": [
      "nohtyP\n"
     ]
    }
   ],
   "source": [
    "a = \"Python\"\n",
    "print(a[: :-1])"
   ]
  },
  {
   "cell_type": "code",
   "execution_count": 27,
   "id": "0e361f46",
   "metadata": {},
   "outputs": [
    {
     "data": {
      "text/plain": [
       "15"
      ]
     },
     "execution_count": 27,
     "metadata": {},
     "output_type": "execute_result"
    }
   ],
   "source": [
    "a = \"Jatin Kasaudhan\"\n",
    "len(a)"
   ]
  },
  {
   "cell_type": "code",
   "execution_count": 31,
   "id": "e3b8348b",
   "metadata": {},
   "outputs": [
    {
     "name": "stdout",
     "output_type": "stream",
     "text": [
      "nahduasaK nitaJ\n"
     ]
    }
   ],
   "source": [
    "a = \"Jatin Kasaudhan\"\n",
    "print(a[-1:-16:-1])"
   ]
  },
  {
   "cell_type": "code",
   "execution_count": 33,
   "id": "fafa5b59",
   "metadata": {},
   "outputs": [
    {
     "name": "stdout",
     "output_type": "stream",
     "text": [
      " world I am Python\n"
     ]
    }
   ],
   "source": [
    "a = \"Hello world I am Python\"\n",
    "print(a[5:])"
   ]
  },
  {
   "cell_type": "code",
   "execution_count": 35,
   "id": "78374591",
   "metadata": {},
   "outputs": [
    {
     "name": "stdout",
     "output_type": "stream",
     "text": [
      "noh\n"
     ]
    }
   ],
   "source": [
    "a = \"Hello world I am Python\"\n",
    "print(a[-1:-4:-1])"
   ]
  },
  {
   "cell_type": "code",
   "execution_count": null,
   "id": "b975e374",
   "metadata": {},
   "outputs": [],
   "source": [
    "#String fomatting"
   ]
  },
  {
   "cell_type": "code",
   "execution_count": null,
   "id": "e6fdb3de",
   "metadata": {},
   "outputs": [],
   "source": [
    "name = input(\"Enter name = \")\n",
    "age = int(input(\"Enter Age = \"))\n",
    "add = (input(\"Enter add =  \"))\n",
    "\n",
    "#info =\"Hello world I am \" + name + \"I am from \" + add + \"I am \" + str(age)\n",
    "\n",
    "print(info)"
   ]
  },
  {
   "cell_type": "code",
   "execution_count": 2,
   "id": "58419e22",
   "metadata": {},
   "outputs": [
    {
     "name": "stdout",
     "output_type": "stream",
     "text": [
      "Enter name = liam\n",
      "Enter Age = 1\n",
      "Enter add =  germany\n",
      "Hello world I am liam. I am from germany. I am 1.\n"
     ]
    }
   ],
   "source": [
    "name = input(\"Enter name = \")\n",
    "age = int(input(\"Enter Age = \"))\n",
    "add = (input(\"Enter add =  \"))\n",
    "\n",
    "#info =\"Hello world I am \" + name + \"I am from \" + add + \"I am \" + str(age)\n",
    "\n",
    "info = f\"Hello world I am {name}. I am from {add}. I am {age}.\"\n",
    "print(info)\n"
   ]
  },
  {
   "cell_type": "code",
   "execution_count": null,
   "id": "d6f3e008",
   "metadata": {},
   "outputs": [],
   "source": []
  },
  {
   "cell_type": "code",
   "execution_count": 1,
   "id": "11356928",
   "metadata": {},
   "outputs": [],
   "source": [
    "a = \"Nishchal Pankaj Prahlad Prajwal Mukesh Dipesh\"\n",
    "name = \"Prajwal\"\n",
    "if name not in a:\n",
    "    print(\"no there is\")"
   ]
  },
  {
   "cell_type": "code",
   "execution_count": 5,
   "id": "0f0ba52a",
   "metadata": {},
   "outputs": [
    {
     "name": "stdout",
     "output_type": "stream",
     "text": [
      "Enter name = ram\n",
      "yes there is\n",
      "2\n"
     ]
    }
   ],
   "source": [
    "a =\"ram shyam hari nabin akash sita manish ramesh\"\n",
    "name = input(\"Enter name = \")\n",
    "Name = \"Sakar\"\n",
    "if name in a:\n",
    "    print(\"yes there is\")\n",
    "    print(a.count(name))\n",
    "else:\n",
    "        print(\"No there is \")\n",
    "        "
   ]
  },
  {
   "cell_type": "code",
   "execution_count": 11,
   "id": "12b7c259",
   "metadata": {},
   "outputs": [
    {
     "name": "stdout",
     "output_type": "stream",
     "text": [
      "RAM SHYAM HARI NABIN AKASH SITA MANISH RAMESH\n",
      "ram shyam hari nabin akash sita manish ramesh\n",
      "Ram Shyam Hari Nabin Akash Sita Manish Ramesh\n",
      "ram shyam hari nabin akash sita manish ramesh\n"
     ]
    }
   ],
   "source": [
    "a =\"ram shyam hari nabin akash sita manish ramesh\"\n",
    "print(a.upper())\n",
    "print(a.lower())\n",
    "print(a.title())\n",
    "print(a)  #original data does not get changed"
   ]
  },
  {
   "cell_type": "code",
   "execution_count": 13,
   "id": "2b7dd650",
   "metadata": {},
   "outputs": [
    {
     "name": "stdout",
     "output_type": "stream",
     "text": [
      "RAM SHYAM HARI NABIN AKASH SITA MANISH RAMESH\n"
     ]
    }
   ],
   "source": [
    "a =\"ram shyam hari nabin akash sita manish ramesh\"\n",
    "a = a.upper() # value is assigned\n",
    "print(a)  #original data does not get changed"
   ]
  },
  {
   "cell_type": "code",
   "execution_count": 14,
   "id": "07010ceb",
   "metadata": {},
   "outputs": [
    {
     "name": "stdout",
     "output_type": "stream",
     "text": [
      "Enter name = rAm\n",
      "yes there is\n",
      "2\n"
     ]
    }
   ],
   "source": [
    "a =\"RAM SHYAM HARI NABIN AKASH SITA MANISH RAMESH\".lower()\n",
    "name = input(\"Enter name = \").lower()\n",
    "if name in a:\n",
    "    print(\"yes there is\")\n",
    "    print(a.count(name))\n",
    "else:\n",
    "        print(\"No there is \")\n",
    "        "
   ]
  },
  {
   "cell_type": "code",
   "execution_count": 15,
   "id": "cc8e15b0",
   "metadata": {},
   "outputs": [
    {
     "data": {
      "text/plain": [
       "['RAM', 'SHYAM', 'HARI', 'NABIN', 'AKASH', 'SITA', 'MANISH', 'RAMESH']"
      ]
     },
     "execution_count": 15,
     "metadata": {},
     "output_type": "execute_result"
    }
   ],
   "source": [
    "a =\"RAM SHYAM HARI NABIN AKASH SITA MANISH RAMESH\"\n",
    "a.split()"
   ]
  },
  {
   "cell_type": "code",
   "execution_count": null,
   "id": "450b9f12",
   "metadata": {},
   "outputs": [],
   "source": []
  }
 ],
 "metadata": {
  "kernelspec": {
   "display_name": "Python 3 (ipykernel)",
   "language": "python",
   "name": "python3"
  },
  "language_info": {
   "codemirror_mode": {
    "name": "ipython",
    "version": 3
   },
   "file_extension": ".py",
   "mimetype": "text/x-python",
   "name": "python",
   "nbconvert_exporter": "python",
   "pygments_lexer": "ipython3",
   "version": "3.10.9"
  }
 },
 "nbformat": 4,
 "nbformat_minor": 5
}
