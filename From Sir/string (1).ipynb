{
 "cells": [
  {
   "cell_type": "code",
   "execution_count": 1,
   "id": "a6f68d5a",
   "metadata": {},
   "outputs": [
    {
     "name": "stdout",
     "output_type": "stream",
     "text": [
      "<class 'str'> <class 'str'> <class 'str'>\n"
     ]
    }
   ],
   "source": [
    "a = 'Hello World'\n",
    "b = \"Hello World\"\n",
    "c = '''Hello World'''\n",
    "\n",
    "print(type(a),type(b),type(c))"
   ]
  },
  {
   "cell_type": "code",
   "execution_count": 2,
   "id": "f9b6587e",
   "metadata": {},
   "outputs": [
    {
     "name": "stdout",
     "output_type": "stream",
     "text": [
      "10\n"
     ]
    }
   ],
   "source": [
    "a = \"10\"\n",
    "print(a)"
   ]
  },
  {
   "cell_type": "code",
   "execution_count": 3,
   "id": "5fb1e2cb",
   "metadata": {},
   "outputs": [
    {
     "name": "stdout",
     "output_type": "stream",
     "text": [
      "Hello World\n"
     ]
    }
   ],
   "source": [
    "# + *\n",
    "a = \"Hello \"\n",
    "b = \"World\"\n",
    "c = a+b\n",
    "print(c)"
   ]
  },
  {
   "cell_type": "code",
   "execution_count": 5,
   "id": "450f6955",
   "metadata": {},
   "outputs": [
    {
     "name": "stdout",
     "output_type": "stream",
     "text": [
      "Hello World\n",
      "Hello World\n",
      "\n"
     ]
    }
   ],
   "source": [
    "a = \"Hello World\\n\"\n",
    "print(a*2)"
   ]
  },
  {
   "cell_type": "code",
   "execution_count": 7,
   "id": "2ebcc62b",
   "metadata": {},
   "outputs": [
    {
     "name": "stdout",
     "output_type": "stream",
     "text": [
      "H I am Python\n",
      "e I am Python\n",
      "l I am Python\n",
      "l I am Python\n",
      "o I am Python\n",
      "  I am Python\n",
      "W I am Python\n",
      "o I am Python\n",
      "r I am Python\n",
      "l I am Python\n",
      "d I am Python\n"
     ]
    }
   ],
   "source": [
    "a = \"Hello World\"\n",
    "for i in a:\n",
    "    print(i,\"I am Python\")"
   ]
  },
  {
   "cell_type": "code",
   "execution_count": 13,
   "id": "9b4497c2",
   "metadata": {},
   "outputs": [
    {
     "name": "stdout",
     "output_type": "stream",
     "text": [
      "H\n",
      "Hello\n",
      "HloWrdIa\n"
     ]
    }
   ],
   "source": [
    "a = \"Hello World I am Python\"\n",
    "print(a[0])\n",
    "print(a[0:5])\n",
    "print(a[0:15:2])"
   ]
  },
  {
   "cell_type": "code",
   "execution_count": 17,
   "id": "b2583b21",
   "metadata": {},
   "outputs": [
    {
     "name": "stdout",
     "output_type": "stream",
     "text": [
      "h\n"
     ]
    }
   ],
   "source": [
    "a = \"Python\"\n",
    "print(a[-3])"
   ]
  },
  {
   "cell_type": "code",
   "execution_count": 25,
   "id": "48211335",
   "metadata": {},
   "outputs": [
    {
     "name": "stdout",
     "output_type": "stream",
     "text": [
      "nohtyP\n"
     ]
    }
   ],
   "source": [
    "a = \"Python\"\n",
    "print(a[-1:-7:-1])"
   ]
  },
  {
   "cell_type": "code",
   "execution_count": 23,
   "id": "1e61822c",
   "metadata": {},
   "outputs": [
    {
     "name": "stdout",
     "output_type": "stream",
     "text": [
      "nohtyP\n"
     ]
    }
   ],
   "source": [
    "a = \"Python\"\n",
    "print(a[: :-1])"
   ]
  },
  {
   "cell_type": "code",
   "execution_count": 27,
   "id": "93a23eab",
   "metadata": {},
   "outputs": [
    {
     "name": "stdout",
     "output_type": "stream",
     "text": [
      "23\n"
     ]
    }
   ],
   "source": [
    "a = \"Hello World I am Python\"\n",
    "print(len(a))"
   ]
  },
  {
   "cell_type": "code",
   "execution_count": 32,
   "id": "3d7fad8e",
   "metadata": {},
   "outputs": [
    {
     "name": "stdout",
     "output_type": "stream",
     "text": [
      " World I am Python\n"
     ]
    }
   ],
   "source": [
    "a = \"Hello World I am Python\"\n",
    "\n",
    "print(a[5:])"
   ]
  },
  {
   "cell_type": "code",
   "execution_count": 33,
   "id": "45543c9c",
   "metadata": {},
   "outputs": [
    {
     "name": "stdout",
     "output_type": "stream",
     "text": [
      "noh\n"
     ]
    }
   ],
   "source": [
    "a = \"Hello World I am Python\"\n",
    "print(a[-1:-4:-1])"
   ]
  },
  {
   "cell_type": "code",
   "execution_count": 34,
   "id": "16976900",
   "metadata": {},
   "outputs": [],
   "source": [
    "# String formatting"
   ]
  },
  {
   "cell_type": "code",
   "execution_count": 36,
   "id": "bf94fcef",
   "metadata": {},
   "outputs": [
    {
     "name": "stdout",
     "output_type": "stream",
     "text": [
      "Enter name = Ram\n",
      "Enter age = 89\n",
      "Enter address = Kathmandu\n",
      "Hello world I am Ram. I am from Kathmandu. I am 89.\n"
     ]
    }
   ],
   "source": [
    "name = input(\"Enter name = \")\n",
    "age = int(input(\"Enter age = \"))\n",
    "add = input(\"Enter address = \")\n",
    "\n",
    "# info = \"Hello world I am \" + name+ \"I am from \" + add + \"I am \"+ str(age)\n",
    "info = f\"Hello world I am {name}. I am from {add}. I am {age}.\"\n",
    "print(info)"
   ]
  },
  {
   "cell_type": "code",
   "execution_count": 37,
   "id": "f73dea23",
   "metadata": {},
   "outputs": [
    {
     "name": "stdout",
     "output_type": "stream",
     "text": [
      "Enter n = 2\n",
      "Enter name = Ram\n",
      "Enter price = 200\n",
      "Enter quantity = 3\n",
      "Enter name = Coke\n",
      "Enter price = 100\n",
      "Enter quantity = 3\n",
      "900.0\n",
      "Ram 200 3.0 600.0\n",
      "Coke 100 3.0 300.0\n",
      "\n"
     ]
    }
   ],
   "source": [
    "info = \"\"\n",
    "grand_total = 0\n",
    "n = int(input(\"Enter n = \"))\n",
    "for i in range(n):\n",
    "    name = input(\"Enter name = \")\n",
    "    price = int(input(\"Enter price = \"))\n",
    "    quantity = float(input(\"Enter quantity = \"))\n",
    "    total = price*quantity\n",
    "    data = f\"{name} {price} {quantity} {total}\\n\"\n",
    "    info = info + data\n",
    "    grand_total = grand_total + total\n",
    "print(grand_total)    \n",
    "print(info)"
   ]
  },
  {
   "cell_type": "code",
   "execution_count": 47,
   "id": "7b4529f3",
   "metadata": {},
   "outputs": [
    {
     "name": "stdout",
     "output_type": "stream",
     "text": [
      "Enter name = ram\n",
      "No There is \n"
     ]
    }
   ],
   "source": [
    "a = \"Ram Shyam Hari Nabin Akash Sita Manish Ramesh\"\n",
    "name = input(\"Enter name = \")\n",
    "if name in a:\n",
    "    print(\"yes there is\")\n",
    "    print(a.count(name))\n",
    "else:\n",
    "    print(\"No There is \")"
   ]
  },
  {
   "cell_type": "code",
   "execution_count": 51,
   "id": "989be141",
   "metadata": {},
   "outputs": [
    {
     "name": "stdout",
     "output_type": "stream",
     "text": [
      "ram shyam hari nabin akash sita manish ramesh\n",
      "RAM SHYAM HARI NABIN AKASH SITA MANISH RAMESH\n",
      "Ram Shyam Hari Nabin Akash Sita Manish Ramesh\n"
     ]
    }
   ],
   "source": [
    "a = \"Ram Shyam Hari Nabin Akash Sita Manish Ramesh\"\n",
    "print(a.lower())\n",
    "print(a.upper())\n",
    "print(a)"
   ]
  },
  {
   "cell_type": "code",
   "execution_count": 52,
   "id": "c90780e6",
   "metadata": {},
   "outputs": [
    {
     "name": "stdout",
     "output_type": "stream",
     "text": [
      "ram shyam hari nabin akash sita manish ramesh\n"
     ]
    }
   ],
   "source": [
    "a = \"Ram Shyam Hari Nabin Akash Sita Manish Ramesh\"\n",
    "a = a.lower()\n",
    "print(a)"
   ]
  },
  {
   "cell_type": "code",
   "execution_count": 53,
   "id": "6d554a27",
   "metadata": {},
   "outputs": [
    {
     "name": "stdout",
     "output_type": "stream",
     "text": [
      "Enter name = rAm\n",
      "yes there is\n",
      "2\n"
     ]
    }
   ],
   "source": [
    "a = \"Ram Shyam Hari Nabin Akash Sita Manish Ramesh\".lower()\n",
    "name = input(\"Enter name = \").lower()\n",
    "if name in a:\n",
    "    print(\"yes there is\")\n",
    "    print(a.count(name))\n",
    "else:\n",
    "    print(\"No There is \")"
   ]
  },
  {
   "cell_type": "code",
   "execution_count": null,
   "id": "2d505006",
   "metadata": {},
   "outputs": [],
   "source": []
  },
  {
   "cell_type": "code",
   "execution_count": 50,
   "id": "3f5b2a09",
   "metadata": {},
   "outputs": [
    {
     "name": "stdout",
     "output_type": "stream",
     "text": [
      "Ram Shyam Hari Nabin Akash Sita Manish Ramesh\n"
     ]
    }
   ],
   "source": [
    "a = \"ram shyam hari nabin akash sita manish ramesh\"\n",
    "print(a.title())"
   ]
  },
  {
   "cell_type": "code",
   "execution_count": 40,
   "id": "fc0bdcc9",
   "metadata": {},
   "outputs": [
    {
     "name": "stdout",
     "output_type": "stream",
     "text": [
      "no there is\n"
     ]
    }
   ],
   "source": [
    "a = \"Ram Shyam Hari Nabin Akash Sita Manish Ramesh\"\n",
    "name = \"Rajesh\"\n",
    "if name not in a:\n",
    "    print(\"no there is\")"
   ]
  },
  {
   "cell_type": "code",
   "execution_count": null,
   "id": "1c282768",
   "metadata": {},
   "outputs": [],
   "source": []
  }
 ],
 "metadata": {
  "kernelspec": {
   "display_name": "Python 3 (ipykernel)",
   "language": "python",
   "name": "python3"
  },
  "language_info": {
   "codemirror_mode": {
    "name": "ipython",
    "version": 3
   },
   "file_extension": ".py",
   "mimetype": "text/x-python",
   "name": "python",
   "nbconvert_exporter": "python",
   "pygments_lexer": "ipython3",
   "version": "3.10.9"
  }
 },
 "nbformat": 4,
 "nbformat_minor": 5
}
