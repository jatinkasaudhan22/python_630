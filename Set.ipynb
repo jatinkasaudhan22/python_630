{
 "cells": [
  {
   "cell_type": "code",
   "execution_count": null,
   "id": "0ccc0d20",
   "metadata": {},
   "outputs": [],
   "source": [
    "# set\n",
    "# -No Indexing\n",
    "# -No ordering\n",
    "# -Multiple values but no duplicate values\n",
    "# - Mutable"
   ]
  },
  {
   "cell_type": "code",
   "execution_count": 1,
   "id": "2493a690",
   "metadata": {},
   "outputs": [
    {
     "name": "stdout",
     "output_type": "stream",
     "text": [
      "<class 'set'>\n"
     ]
    }
   ],
   "source": [
    "s = set()\n",
    "s = {1,2,3,4,5,67,8,9}\n",
    "print(type(s))"
   ]
  },
  {
   "cell_type": "code",
   "execution_count": 2,
   "id": "4de86764",
   "metadata": {},
   "outputs": [
    {
     "ename": "TypeError",
     "evalue": "'set' object is not subscriptable",
     "output_type": "error",
     "traceback": [
      "\u001b[1;31m---------------------------------------------------------------------------\u001b[0m",
      "\u001b[1;31mTypeError\u001b[0m                                 Traceback (most recent call last)",
      "Cell \u001b[1;32mIn[2], line 1\u001b[0m\n\u001b[1;32m----> 1\u001b[0m \u001b[38;5;28mprint\u001b[39m(\u001b[43ms\u001b[49m\u001b[43m[\u001b[49m\u001b[38;5;241;43m0\u001b[39;49m\u001b[43m]\u001b[49m)\n",
      "\u001b[1;31mTypeError\u001b[0m: 'set' object is not subscriptable"
     ]
    }
   ],
   "source": [
    "print(s[0]) #Set does not support indexing"
   ]
  },
  {
   "cell_type": "code",
   "execution_count": 4,
   "id": "2c6ceef0",
   "metadata": {},
   "outputs": [
    {
     "name": "stdout",
     "output_type": "stream",
     "text": [
      "{'Cat', 'Fish', 'Apple', 'Dog', 'Ball'}\n"
     ]
    }
   ],
   "source": [
    "s = {\"Apple\",\"Ball\",\"Cat\",\"Fish\",\"Dog\"}\n",
    "print(s) #Set does not support ordering"
   ]
  },
  {
   "cell_type": "code",
   "execution_count": 5,
   "id": "fe481660",
   "metadata": {},
   "outputs": [
    {
     "data": {
      "text/plain": [
       "{'Apple', 'Ball', 'Cat', 'Dog', 'Fish'}"
      ]
     },
     "execution_count": 5,
     "metadata": {},
     "output_type": "execute_result"
    }
   ],
   "source": [
    "s"
   ]
  },
  {
   "cell_type": "code",
   "execution_count": 6,
   "id": "4285f70e",
   "metadata": {},
   "outputs": [
    {
     "name": "stdout",
     "output_type": "stream",
     "text": [
      "{'cat', 'fish', 'apple', 'ball', 'dog'}\n"
     ]
    }
   ],
   "source": [
    "s = {\"apple\",\"ball\",\"cat\",\"fish\",\"dog\"}\n",
    "print(s) #Set does not support ordering"
   ]
  },
  {
   "cell_type": "code",
   "execution_count": 1,
   "id": "7d8c9d97",
   "metadata": {},
   "outputs": [
    {
     "name": "stdout",
     "output_type": "stream",
     "text": [
      "{1, 34, 22, 23, 56, 78, 79}\n"
     ]
    }
   ],
   "source": [
    "s = {34,56,22,78,1,78,34,23,79}\n",
    "print(s)"
   ]
  },
  {
   "cell_type": "code",
   "execution_count": 2,
   "id": "071661f9",
   "metadata": {},
   "outputs": [
    {
     "data": {
      "text/plain": [
       "{1, 22, 23, 34, 56, 78, 79}"
      ]
     },
     "execution_count": 2,
     "metadata": {},
     "output_type": "execute_result"
    }
   ],
   "source": [
    "s"
   ]
  },
  {
   "cell_type": "code",
   "execution_count": 3,
   "id": "48998e2c",
   "metadata": {},
   "outputs": [
    {
     "data": {
      "text/plain": [
       "{'apple', 'ball', 'cat', 'dog', 'fish'}"
      ]
     },
     "execution_count": 3,
     "metadata": {},
     "output_type": "execute_result"
    }
   ],
   "source": [
    "s = {\"apple\",\"ball\",\"cat\",\"fish\",\"dog\",\"apple\"} #removes duplication\n",
    "s"
   ]
  },
  {
   "cell_type": "code",
   "execution_count": 4,
   "id": "4c6193dc",
   "metadata": {},
   "outputs": [
    {
     "data": {
      "text/plain": [
       "{'apple', 'ball', 'cat', 'dog', 'fish'}"
      ]
     },
     "execution_count": 4,
     "metadata": {},
     "output_type": "execute_result"
    }
   ],
   "source": [
    "s = {\"apple\",\"ball\",\"ball\",\"cat\",\"fish\",\"dog\",\"apple\"}\n",
    "s"
   ]
  },
  {
   "cell_type": "code",
   "execution_count": 5,
   "id": "cb458c70",
   "metadata": {},
   "outputs": [
    {
     "data": {
      "text/plain": [
       "['cat', 'ball', 'apple', 'dog', 'fish']"
      ]
     },
     "execution_count": 5,
     "metadata": {},
     "output_type": "execute_result"
    }
   ],
   "source": [
    "s = [\"apple\",\"ball\",\"ball\",\"cat\",\"fish\",\"dog\",\"apple\"]\n",
    "list(set(s))"
   ]
  },
  {
   "cell_type": "code",
   "execution_count": 8,
   "id": "6f0c8ff5",
   "metadata": {},
   "outputs": [
    {
     "data": {
      "text/plain": [
       "{'apple', 'ball', 'cat'}"
      ]
     },
     "execution_count": 8,
     "metadata": {},
     "output_type": "execute_result"
    }
   ],
   "source": [
    "s = set()\n",
    "s.add('apple')\n",
    "s.add('ball')\n",
    "s.add('cat')\n",
    "s"
   ]
  },
  {
   "cell_type": "code",
   "execution_count": null,
   "id": "e777bc4a",
   "metadata": {},
   "outputs": [],
   "source": [
    "# in set and dic no + *"
   ]
  },
  {
   "cell_type": "code",
   "execution_count": 9,
   "id": "61fb07c6",
   "metadata": {},
   "outputs": [
    {
     "data": {
      "text/plain": [
       "{1, 2, 3, 4, 5, 6, 7}"
      ]
     },
     "execution_count": 9,
     "metadata": {},
     "output_type": "execute_result"
    }
   ],
   "source": [
    "# update()\n",
    "a = {1,2,3,4,5,6,7}\n",
    "b = {5,6,7,2,3}\n",
    "a.update(b)\n",
    "a\n"
   ]
  },
  {
   "cell_type": "code",
   "execution_count": 10,
   "id": "04848ff3",
   "metadata": {},
   "outputs": [
    {
     "ename": "TypeError",
     "evalue": "unhashable type: 'list'",
     "output_type": "error",
     "traceback": [
      "\u001b[1;31m---------------------------------------------------------------------------\u001b[0m",
      "\u001b[1;31mTypeError\u001b[0m                                 Traceback (most recent call last)",
      "Cell \u001b[1;32mIn[10], line 2\u001b[0m\n\u001b[0;32m      1\u001b[0m \u001b[38;5;66;03m#list inside set is not acceptable (Interview Question)\u001b[39;00m\n\u001b[1;32m----> 2\u001b[0m a \u001b[38;5;241m=\u001b[39m {[\u001b[38;5;241m1\u001b[39m,\u001b[38;5;241m2\u001b[39m,\u001b[38;5;241m3\u001b[39m]}\n\u001b[0;32m      3\u001b[0m a\n",
      "\u001b[1;31mTypeError\u001b[0m: unhashable type: 'list'"
     ]
    }
   ],
   "source": [
    "#list inside set is not acceptable (Interview Question)\n",
    "a = {[1,2,3]}\n",
    "a"
   ]
  },
  {
   "cell_type": "code",
   "execution_count": 11,
   "id": "cfdcd7b4",
   "metadata": {},
   "outputs": [
    {
     "ename": "TypeError",
     "evalue": "unhashable type: 'dict'",
     "output_type": "error",
     "traceback": [
      "\u001b[1;31m---------------------------------------------------------------------------\u001b[0m",
      "\u001b[1;31mTypeError\u001b[0m                                 Traceback (most recent call last)",
      "Cell \u001b[1;32mIn[11], line 2\u001b[0m\n\u001b[0;32m      1\u001b[0m \u001b[38;5;66;03m# No dict insdie set\u001b[39;00m\n\u001b[1;32m----> 2\u001b[0m a \u001b[38;5;241m=\u001b[39m {{\u001b[38;5;124m\"\u001b[39m\u001b[38;5;124ma\u001b[39m\u001b[38;5;124m\"\u001b[39m:\u001b[38;5;124m\"\u001b[39m\u001b[38;5;124mApple\u001b[39m\u001b[38;5;124m\"\u001b[39m}}\n\u001b[0;32m      3\u001b[0m a\n",
      "\u001b[1;31mTypeError\u001b[0m: unhashable type: 'dict'"
     ]
    }
   ],
   "source": [
    "# No dict insdie set\n",
    "a = {{\"a\":\"Apple\"}}\n",
    "a"
   ]
  },
  {
   "cell_type": "code",
   "execution_count": 12,
   "id": "da0c3f18",
   "metadata": {},
   "outputs": [
    {
     "data": {
      "text/plain": [
       "{(1, 2, 3)}"
      ]
     },
     "execution_count": 12,
     "metadata": {},
     "output_type": "execute_result"
    }
   ],
   "source": [
    "# Tuple inside set\n",
    "a = {(1,2,3)} \n",
    "a"
   ]
  },
  {
   "cell_type": "code",
   "execution_count": 16,
   "id": "ff6d39f2",
   "metadata": {},
   "outputs": [
    {
     "ename": "TypeError",
     "evalue": "unhashable type: 'set'",
     "output_type": "error",
     "traceback": [
      "\u001b[1;31m---------------------------------------------------------------------------\u001b[0m",
      "\u001b[1;31mTypeError\u001b[0m                                 Traceback (most recent call last)",
      "Cell \u001b[1;32mIn[16], line 2\u001b[0m\n\u001b[0;32m      1\u001b[0m \u001b[38;5;66;03m# No set inside set\u001b[39;00m\n\u001b[1;32m----> 2\u001b[0m a \u001b[38;5;241m=\u001b[39m {{\u001b[38;5;241m1\u001b[39m,\u001b[38;5;241m2\u001b[39m,\u001b[38;5;241m3\u001b[39m}}\n\u001b[0;32m      3\u001b[0m a\n",
      "\u001b[1;31mTypeError\u001b[0m: unhashable type: 'set'"
     ]
    }
   ],
   "source": [
    "# No set inside set\n",
    "a = {{1,2,3}}\n",
    "a"
   ]
  },
  {
   "cell_type": "code",
   "execution_count": 20,
   "id": "2cfcf441",
   "metadata": {},
   "outputs": [
    {
     "name": "stdout",
     "output_type": "stream",
     "text": [
      "{'John', 'Hari'}\n"
     ]
    }
   ],
   "source": [
    "apple = {\"Ram\",\"Shyam\",\"Hari\",\"Jobs\",\"Steve\",\"John\"}\n",
    "ms = {\"Satya\",\"Bill\",\"Gates\",\"Hari\",\"John\",\"Nabin\"}\n",
    "\n",
    "print(apple.intersection(ms))"
   ]
  },
  {
   "cell_type": "code",
   "execution_count": 21,
   "id": "0c6a48be",
   "metadata": {},
   "outputs": [
    {
     "name": "stdout",
     "output_type": "stream",
     "text": [
      "{'Bill', 'Ram', 'John', 'Gates', 'Nabin', 'Hari', 'Steve', 'Shyam', 'Satya', 'Jobs'}\n"
     ]
    }
   ],
   "source": [
    "print(apple.union(ms))"
   ]
  },
  {
   "cell_type": "code",
   "execution_count": 22,
   "id": "9ccfc973",
   "metadata": {},
   "outputs": [
    {
     "data": {
      "text/plain": [
       "{'Jobs', 'Ram', 'Shyam', 'Steve'}"
      ]
     },
     "execution_count": 22,
     "metadata": {},
     "output_type": "execute_result"
    }
   ],
   "source": [
    "apple-ms #difference of set"
   ]
  },
  {
   "cell_type": "code",
   "execution_count": 23,
   "id": "0cfcdb73",
   "metadata": {},
   "outputs": [
    {
     "data": {
      "text/plain": [
       "{'Bill', 'Gates', 'Nabin', 'Satya'}"
      ]
     },
     "execution_count": 23,
     "metadata": {},
     "output_type": "execute_result"
    }
   ],
   "source": [
    "ms - apple"
   ]
  },
  {
   "cell_type": "code",
   "execution_count": 24,
   "id": "7874ccaf",
   "metadata": {},
   "outputs": [
    {
     "data": {
      "text/plain": [
       "{'Bill', 'Gates', 'Jobs', 'Nabin', 'Ram', 'Satya', 'Shyam', 'Steve'}"
      ]
     },
     "execution_count": 24,
     "metadata": {},
     "output_type": "execute_result"
    }
   ],
   "source": [
    "(apple-ms).union(ms-apple) #intersection part is removed"
   ]
  },
  {
   "cell_type": "code",
   "execution_count": 26,
   "id": "66dec587",
   "metadata": {},
   "outputs": [
    {
     "name": "stdout",
     "output_type": "stream",
     "text": [
      "False\n",
      "True\n"
     ]
    }
   ],
   "source": [
    "a = {1,2,3,4,5,6,7,8,9,0}\n",
    "b = {2,4,6,8,0}\n",
    "print(a.issubset(b))\n",
    "print(b.issubset(a))"
   ]
  },
  {
   "cell_type": "code",
   "execution_count": 27,
   "id": "5930d597",
   "metadata": {},
   "outputs": [
    {
     "name": "stdout",
     "output_type": "stream",
     "text": [
      "True\n",
      "False\n"
     ]
    }
   ],
   "source": [
    "print(a.issuperset(b))\n",
    "print(b.issuperset(a))"
   ]
  },
  {
   "cell_type": "code",
   "execution_count": null,
   "id": "47b4c94e",
   "metadata": {},
   "outputs": [],
   "source": []
  }
 ],
 "metadata": {
  "kernelspec": {
   "display_name": "Python 3 (ipykernel)",
   "language": "python",
   "name": "python3"
  },
  "language_info": {
   "codemirror_mode": {
    "name": "ipython",
    "version": 3
   },
   "file_extension": ".py",
   "mimetype": "text/x-python",
   "name": "python",
   "nbconvert_exporter": "python",
   "pygments_lexer": "ipython3",
   "version": "3.10.9"
  }
 },
 "nbformat": 4,
 "nbformat_minor": 5
}
