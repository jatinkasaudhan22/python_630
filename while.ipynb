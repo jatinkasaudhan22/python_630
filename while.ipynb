{
 "cells": [
  {
   "cell_type": "code",
   "execution_count": 2,
   "id": "f2d9754f",
   "metadata": {},
   "outputs": [
    {
     "name": "stdout",
     "output_type": "stream",
     "text": [
      "0 Hello World\n",
      "1 Hello World\n",
      "2 Hello World\n",
      "3 Hello World\n",
      "4 Hello World\n",
      "5 Hello World\n"
     ]
    }
   ],
   "source": [
    "i = 0\n",
    "while i<=5:\n",
    "     print(i,\"Hello World\")\n",
    "     i=i+1\n",
    "        \n",
    "        \n"
   ]
  },
  {
   "cell_type": "code",
   "execution_count": 4,
   "id": "7ef65bfe",
   "metadata": {},
   "outputs": [
    {
     "name": "stdout",
     "output_type": "stream",
     "text": [
      "1 Hello World\n",
      "2 Hello World\n",
      "3 Hello World\n",
      "4 Hello World\n"
     ]
    }
   ],
   "source": [
    "i = 1\n",
    "while i<5:\n",
    "     print(i,\"Hello World\")\n",
    "     i=i+1\n",
    "        \n",
    "        \n"
   ]
  },
  {
   "cell_type": "code",
   "execution_count": 5,
   "id": "86b9c8a0",
   "metadata": {},
   "outputs": [
    {
     "name": "stdout",
     "output_type": "stream",
     "text": [
      "0 Hello World\n",
      "0.5 Hello World\n",
      "1.0 Hello World\n",
      "1.5 Hello World\n",
      "2.0 Hello World\n",
      "2.5 Hello World\n",
      "3.0 Hello World\n",
      "3.5 Hello World\n",
      "4.0 Hello World\n",
      "4.5 Hello World\n"
     ]
    }
   ],
   "source": [
    "i = 0\n",
    "while i<5:\n",
    "     print(i,\"Hello World\")\n",
    "     i=i+0.5\n",
    "        \n",
    "        \n"
   ]
  },
  {
   "cell_type": "code",
   "execution_count": 12,
   "id": "830dfba3",
   "metadata": {},
   "outputs": [
    {
     "name": "stdout",
     "output_type": "stream",
     "text": [
      "Enter n = 999\n",
      "999 * 1 = 999\n",
      "999 * 2 = 1998\n",
      "999 * 3 = 2997\n",
      "999 * 4 = 3996\n",
      "999 * 5 = 4995\n",
      "999 * 6 = 5994\n",
      "999 * 7 = 6993\n",
      "999 * 8 = 7992\n",
      "999 * 9 = 8991\n",
      "999 * 10 = 9990\n"
     ]
    }
   ],
   "source": [
    "i=1\n",
    "n = int(input(\"Enter n = \"))\n",
    "while i<=10:\n",
    "    print(n,\"*\",i,\"=\",n*i)\n",
    "    i+=1"
   ]
  },
  {
   "cell_type": "code",
   "execution_count": 15,
   "id": "9b47484a",
   "metadata": {},
   "outputs": [
    {
     "name": "stdout",
     "output_type": "stream",
     "text": [
      "5\n",
      "4\n",
      "3\n",
      "2\n",
      "1\n"
     ]
    }
   ],
   "source": [
    "for i in range (5,0,-1):\n",
    "     print(i)"
   ]
  },
  {
   "cell_type": "code",
   "execution_count": 17,
   "id": "496d458b",
   "metadata": {},
   "outputs": [
    {
     "name": "stdout",
     "output_type": "stream",
     "text": [
      "5 Hello World\n",
      "4 Hello World\n",
      "3 Hello World\n",
      "2 Hello World\n",
      "1 Hello World\n"
     ]
    }
   ],
   "source": [
    "i = 5\n",
    "while i>0:\n",
    "     print(i,\"Hello World\")\n",
    "     i = i-1   "
   ]
  },
  {
   "cell_type": "code",
   "execution_count": 19,
   "id": "e272c89f",
   "metadata": {},
   "outputs": [
    {
     "name": "stdout",
     "output_type": "stream",
     "text": [
      "Enter n = 5\n",
      "Enter x = 10\n",
      "Enter x = 20\n",
      "Enter x = 30\n",
      "Enter x = 40\n",
      "Enter x = 50\n",
      "150\n"
     ]
    }
   ],
   "source": [
    "s = 0\n",
    "i= 0\n",
    "n= int(input(\"Enter n = \"))\n",
    "while i < n:\n",
    "     x = int(input(\"Enter x = \"))\n",
    "     s = s+x\n",
    "     i = i+1\n",
    "print(s)"
   ]
  },
  {
   "cell_type": "code",
   "execution_count": 21,
   "id": "28114560",
   "metadata": {},
   "outputs": [
    {
     "name": "stdout",
     "output_type": "stream",
     "text": [
      "Enter n = 2\n",
      "Enter name = hari\n",
      "Enter phone = 111\n",
      "Enter name = ram 22\n",
      "Enter phone = 3333\n",
      "hari 111\n",
      "ram 22 3333\n",
      "\n"
     ]
    }
   ],
   "source": [
    "\n",
    "data = \"\"\n",
    "i = 0\n",
    "n = int(input(\"Enter n = \"))\n",
    "while i < n:\n",
    "  name = input(\"Enter name = \")\n",
    "  phone = int(input(\"Enter phone = \"))\n",
    "  info = name + \" \" + str(phone) + \"\\n\"\n",
    "  data = data + info \n",
    "  i = i + 1\n",
    "\n",
    "print(data)"
   ]
  },
  {
   "cell_type": "code",
   "execution_count": 25,
   "id": "e3c4eb0e",
   "metadata": {},
   "outputs": [
    {
     "name": "stdout",
     "output_type": "stream",
     "text": [
      "0\n",
      "1\n",
      "2\n",
      "3\n",
      "4\n"
     ]
    }
   ],
   "source": [
    "i = 0\n",
    "while i < 10:\n",
    " if  i == 5:\n",
    "  break\n",
    " print(i)\n",
    " i = i+1"
   ]
  },
  {
   "cell_type": "code",
   "execution_count": 11,
   "id": "f6ed0b18",
   "metadata": {},
   "outputs": [
    {
     "name": "stdout",
     "output_type": "stream",
     "text": [
      "0 1 2 3 4 6 7 8 9 "
     ]
    }
   ],
   "source": [
    "i = 0\n",
    "while i < 10:\n",
    "    if i == 5:\n",
    "        i=i+1   \n",
    "        continue\n",
    "    print(i,end = \" \")\n",
    "    i=i+1"
   ]
  },
  {
   "cell_type": "code",
   "execution_count": null,
   "id": "954b34f0",
   "metadata": {},
   "outputs": [],
   "source": [
    "#loops in strings"
   ]
  },
  {
   "cell_type": "code",
   "execution_count": 15,
   "id": "40e71b31",
   "metadata": {},
   "outputs": [
    {
     "name": "stdout",
     "output_type": "stream",
     "text": [
      "Hello World\n",
      "Hello World\n",
      "Hello World\n",
      "Hello World\n",
      "Hello World\n",
      "Hello World\n"
     ]
    }
   ],
   "source": [
    "#range(5) 0,1,2,3,4\n",
    "a = \"Python\"\n",
    "for i in a:\n",
    "    print(\"Hello World\")"
   ]
  },
  {
   "cell_type": "code",
   "execution_count": 16,
   "id": "e4168cf3",
   "metadata": {},
   "outputs": [
    {
     "name": "stdout",
     "output_type": "stream",
     "text": [
      "P Hello World\n",
      "y Hello World\n",
      "t Hello World\n",
      "h Hello World\n",
      "o Hello World\n",
      "n Hello World\n"
     ]
    }
   ],
   "source": [
    "#range(5) 0,1,2,3,4\n",
    "a = \"Python\"\n",
    "for i in a:\n",
    "    print(i,\"Hello World\")"
   ]
  },
  {
   "cell_type": "code",
   "execution_count": 46,
   "id": "29d96421",
   "metadata": {},
   "outputs": [
    {
     "name": "stdout",
     "output_type": "stream",
     "text": [
      "Hello World I am Python.\n"
     ]
    }
   ],
   "source": [
    "a = \"Hello World I am Python. I am the best.\"\n",
    "for i in a:\n",
    "    if i == \".\": \n",
    "        print(i)\n",
    "        break\n",
    "    print(i,end = \"\")"
   ]
  },
  {
   "cell_type": "code",
   "execution_count": null,
   "id": "5424042e",
   "metadata": {},
   "outputs": [],
   "source": [
    "# for else\n",
    "#while else"
   ]
  },
  {
   "cell_type": "code",
   "execution_count": 56,
   "id": "f60a64ba",
   "metadata": {},
   "outputs": [],
   "source": [
    "#prime = > 2,3,5,7,11,13,17,19\n",
    "#composite => 4,6,9,10,12,14"
   ]
  },
  {
   "cell_type": "code",
   "execution_count": 70,
   "id": "74880807",
   "metadata": {},
   "outputs": [
    {
     "name": "stdout",
     "output_type": "stream",
     "text": [
      "Enter n = 9\n",
      "The no. is prime.\n",
      "The no. is composite.\n"
     ]
    }
   ],
   "source": [
    "n = int(input(\"Enter n = \"))\n",
    "if n>=2:\n",
    "    for i in range(2,n):\n",
    "        if n%i==0:\n",
    "            print(\"The no. is composite.\")\n",
    "            break\n",
    "        else:\n",
    "            print(\"The no. is prime.\")\n",
    "    else:\n",
    "            print(\"The no. should be n >= 2\")"
   ]
  },
  {
   "cell_type": "code",
   "execution_count": null,
   "id": "b3e4cce8",
   "metadata": {},
   "outputs": [],
   "source": [
    " "
   ]
  },
  {
   "cell_type": "code",
   "execution_count": null,
   "id": "8d198d4c",
   "metadata": {},
   "outputs": [],
   "source": []
  },
  {
   "cell_type": "code",
   "execution_count": null,
   "id": "8b74e6d6",
   "metadata": {},
   "outputs": [],
   "source": []
  }
 ],
 "metadata": {
  "kernelspec": {
   "display_name": "Python 3 (ipykernel)",
   "language": "python",
   "name": "python3"
  },
  "language_info": {
   "codemirror_mode": {
    "name": "ipython",
    "version": 3
   },
   "file_extension": ".py",
   "mimetype": "text/x-python",
   "name": "python",
   "nbconvert_exporter": "python",
   "pygments_lexer": "ipython3",
   "version": "3.10.9"
  }
 },
 "nbformat": 4,
 "nbformat_minor": 5
}
