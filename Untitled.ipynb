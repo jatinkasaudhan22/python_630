{
 "cells": [
  {
   "cell_type": "code",
   "execution_count": 1,
   "id": "109c61cb",
   "metadata": {},
   "outputs": [
    {
     "name": "stdout",
     "output_type": "stream",
     "text": [
      "Enter n 5\n",
      "1\n",
      "2\n",
      "6\n",
      "24\n",
      "120\n",
      "The value  should be n >0\n"
     ]
    }
   ],
   "source": [
    "fac = 1 \n",
    "n=int(input(\"Enter n \"))\n",
    "if n>= 0:\n",
    " for i in range(1,n+1):\n",
    "  fac = fac*i\n",
    "\n",
    "  print(fac)\n",
    " else:\n",
    "  print(\"The value  should be n >0\")\n",
    "\n"
   ]
  },
  {
   "cell_type": "code",
   "execution_count": null,
   "id": "96073b58",
   "metadata": {},
   "outputs": [],
   "source": []
  }
 ],
 "metadata": {
  "kernelspec": {
   "display_name": "Python 3 (ipykernel)",
   "language": "python",
   "name": "python3"
  },
  "language_info": {
   "codemirror_mode": {
    "name": "ipython",
    "version": 3
   },
   "file_extension": ".py",
   "mimetype": "text/x-python",
   "name": "python",
   "nbconvert_exporter": "python",
   "pygments_lexer": "ipython3",
   "version": "3.10.9"
  }
 },
 "nbformat": 4,
 "nbformat_minor": 5
}
