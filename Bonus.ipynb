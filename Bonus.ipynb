{
 "cells": [
  {
   "cell_type": "code",
   "execution_count": 1,
   "id": "4a310001",
   "metadata": {},
   "outputs": [
    {
     "name": "stdout",
     "output_type": "stream",
     "text": [
      "2023-06-07 18:56:00.525565\n"
     ]
    }
   ],
   "source": [
    "import datetime as dt\n",
    "\n",
    "x = dt.datetime.now()\n",
    "print(x)"
   ]
  },
  {
   "cell_type": "code",
   "execution_count": 12,
   "id": "d0ae3efc",
   "metadata": {},
   "outputs": [
    {
     "name": "stdout",
     "output_type": "stream",
     "text": [
      "2023\n",
      "6\n",
      "7\n",
      "Wed Jun  7 19:01:32 2023\n"
     ]
    }
   ],
   "source": [
    "import datetime \n",
    "\n",
    "x = datetime.datetime.now()\n",
    "print(x.year)\n",
    "print(x.month)\n",
    "print(x.day)\n",
    "\n",
    "print(x.strftime(\"%c\"))"
   ]
  },
  {
   "cell_type": "code",
   "execution_count": 13,
   "id": "31a15ac2",
   "metadata": {},
   "outputs": [
    {
     "name": "stdout",
     "output_type": "stream",
     "text": [
      "2023\n",
      "6\n",
      "7\n",
      "06/07/23\n"
     ]
    }
   ],
   "source": [
    "import datetime \n",
    "\n",
    "x = datetime.datetime.now()\n",
    "print(x.year)\n",
    "print(x.month)\n",
    "print(x.day)\n",
    "\n",
    "print(x.strftime(\"%D\"))"
   ]
  },
  {
   "cell_type": "code",
   "execution_count": 14,
   "id": "ea4113e3",
   "metadata": {},
   "outputs": [
    {
     "name": "stdout",
     "output_type": "stream",
     "text": [
      "0:00:00\n"
     ]
    }
   ],
   "source": [
    "#how much time\n",
    "x = datetime.datetime.now()\n",
    "for i in range(100):\n",
    "    pass\n",
    "y = datetime.datetime.now()\n",
    "print(y-x)"
   ]
  },
  {
   "cell_type": "code",
   "execution_count": 15,
   "id": "c42dbc8c",
   "metadata": {},
   "outputs": [
    {
     "name": "stdout",
     "output_type": "stream",
     "text": [
      "Enter name = Jatin \n",
      "0:00:02.848288\n"
     ]
    }
   ],
   "source": [
    "#how much time taken to input name (use In online exam)\n",
    "x = datetime.datetime.now()\n",
    "\n",
    "name = input(\"Enter name = \")\n",
    "y = datetime.datetime.now()\n",
    "print(y-x)"
   ]
  },
  {
   "cell_type": "code",
   "execution_count": null,
   "id": "257a9463",
   "metadata": {},
   "outputs": [],
   "source": [
    "# Comprehensions: List, Dictionary"
   ]
  },
  {
   "cell_type": "code",
   "execution_count": 18,
   "id": "d571d9b0",
   "metadata": {},
   "outputs": [
    {
     "data": {
      "text/plain": [
       "[0, 1, 2, 3, 4]"
      ]
     },
     "execution_count": 18,
     "metadata": {},
     "output_type": "execute_result"
    }
   ],
   "source": [
    "a = [i for i in range(5)]\n",
    "a"
   ]
  },
  {
   "cell_type": "code",
   "execution_count": 20,
   "id": "459b7fed",
   "metadata": {},
   "outputs": [
    {
     "data": {
      "text/plain": [
       "[0, 2, 4, 6, 8]"
      ]
     },
     "execution_count": 20,
     "metadata": {},
     "output_type": "execute_result"
    }
   ],
   "source": [
    "a = [i*2 for i in range(5)]\n",
    "a"
   ]
  },
  {
   "cell_type": "code",
   "execution_count": 23,
   "id": "7c8444ae",
   "metadata": {},
   "outputs": [
    {
     "data": {
      "text/plain": [
       "[2, 4, 6, 8, 10, 12, 14, 16, 18, 20]"
      ]
     },
     "execution_count": 23,
     "metadata": {},
     "output_type": "execute_result"
    }
   ],
   "source": [
    "a = [i*2 for i in range(1,11)]\n",
    "a"
   ]
  },
  {
   "cell_type": "code",
   "execution_count": 1,
   "id": "31033994",
   "metadata": {},
   "outputs": [
    {
     "name": "stdout",
     "output_type": "stream",
     "text": [
      "Enter value = 23\n",
      "Enter value = 43\n",
      "Enter value = 54\n",
      "Enter value = 64\n",
      "Enter value = 64\n"
     ]
    },
    {
     "data": {
      "text/plain": [
       "[23, 43, 54, 64, 64]"
      ]
     },
     "execution_count": 1,
     "metadata": {},
     "output_type": "execute_result"
    }
   ],
   "source": [
    "a = [int(input(\"Enter value = \")) for i in range(5)]\n",
    "a"
   ]
  },
  {
   "cell_type": "code",
   "execution_count": 2,
   "id": "0a7f53d4",
   "metadata": {},
   "outputs": [
    {
     "name": "stdout",
     "output_type": "stream",
     "text": [
      "Enter value = 24\n",
      "Enter value = 53\n",
      "Enter value = 6\n",
      "Enter value = 33\n",
      "Enter value = 66\n"
     ]
    },
    {
     "data": {
      "text/plain": [
       "182"
      ]
     },
     "execution_count": 2,
     "metadata": {},
     "output_type": "execute_result"
    }
   ],
   "source": [
    "a = sum([int(input(\"Enter value = \")) for i in range(5)])\n",
    "a"
   ]
  },
  {
   "cell_type": "code",
   "execution_count": null,
   "id": "a35af279",
   "metadata": {},
   "outputs": [],
   "source": [
    "a   "
   ]
  },
  {
   "cell_type": "code",
   "execution_count": 6,
   "id": "7bbb55bf",
   "metadata": {},
   "outputs": [
    {
     "name": "stdout",
     "output_type": "stream",
     "text": [
      "Enter Key a\n",
      "Enter value = 12\n",
      "Enter Key b\n",
      "Enter value = 23\n",
      "Enter Key c\n",
      "Enter value = 34\n",
      "Enter Key d\n",
      "Enter value = 54\n",
      "Enter Key e\n",
      "Enter value = 432\n"
     ]
    },
    {
     "data": {
      "text/plain": [
       "{'a': 12, 'b': 23, 'c': 34, 'd': 54, 'e': 432}"
      ]
     },
     "execution_count": 6,
     "metadata": {},
     "output_type": "execute_result"
    }
   ],
   "source": [
    "a = {input(\"Enter Key \"):int(input(\"Enter value = \")) for i in range(5)}\n",
    "a"
   ]
  },
  {
   "cell_type": "code",
   "execution_count": 8,
   "id": "8cdadfb3",
   "metadata": {},
   "outputs": [
    {
     "name": "stdout",
     "output_type": "stream",
     "text": [
      "Enter name: jatin\n",
      "Enter value: 9821574477\n",
      "Enter name: liam\n",
      "Enter value: +4917661440505\n"
     ]
    },
    {
     "data": {
      "text/plain": [
       "{'jatin': 9821574477, 'liam': 4917661440505}"
      ]
     },
     "execution_count": 8,
     "metadata": {},
     "output_type": "execute_result"
    }
   ],
   "source": [
    "a = {input(\"Enter name: \"):int(input(\"Enter value: \")) for i in range(2)}\n",
    "a"
   ]
  },
  {
   "cell_type": "code",
   "execution_count": 9,
   "id": "1e65848b",
   "metadata": {},
   "outputs": [
    {
     "name": "stdout",
     "output_type": "stream",
     "text": [
      "Enter name: jatin\n",
      "Enter value: 33333\n",
      "Enter name: liam\n",
      "Enter value: 325555\n"
     ]
    },
    {
     "data": {
      "text/plain": [
       "{'jatin': 33333, 'liam': 325555}"
      ]
     },
     "execution_count": 9,
     "metadata": {},
     "output_type": "execute_result"
    }
   ],
   "source": [
    "n = 2\n",
    "a = {input(\"Enter name: \"):int(input(\"Enter value: \")) for i in range(n)}\n",
    "a"
   ]
  },
  {
   "cell_type": "code",
   "execution_count": null,
   "id": "4405dc9d",
   "metadata": {},
   "outputs": [],
   "source": [
    "#python os "
   ]
  },
  {
   "cell_type": "code",
   "execution_count": 10,
   "id": "d3e6ddba",
   "metadata": {},
   "outputs": [
    {
     "data": {
      "text/plain": [
       "['.git',\n",
       " '.ipynb_checkpoints',\n",
       " '6th class.txt',\n",
       " 'bill.csv',\n",
       " 'bill.txt',\n",
       " 'bill1.csv',\n",
       " 'Bonus.ipynb',\n",
       " 'covid_data.csv',\n",
       " 'data.csv',\n",
       " 'data.txt',\n",
       " 'data1.txt',\n",
       " 'Day2-io.ipynb',\n",
       " 'dict.ipynb',\n",
       " 'File Handling.ipynb',\n",
       " 'first.py',\n",
       " 'first_class.ipynb',\n",
       " 'From Sir',\n",
       " 'function.ipynb',\n",
       " 'GitHub.txt',\n",
       " 'if else (1).ipynb',\n",
       " 'if else.ipynb',\n",
       " 'Inheritance.ipynb',\n",
       " 'List.ipynb',\n",
       " 'loop (1).ipynb',\n",
       " 'loop (2).ipynb',\n",
       " 'loop.ipynb',\n",
       " 'MOSH.ipynb',\n",
       " 'mysql.ipynb',\n",
       " 'news_data.csv',\n",
       " 'news_data.json',\n",
       " 'OOP.ipynb',\n",
       " 'Panadas',\n",
       " 'Project.ipynb',\n",
       " 'Self Practice',\n",
       " 'Set.ipynb',\n",
       " 'Strings.ipynb',\n",
       " 'strings.py',\n",
       " 'TUPLE.ipynb',\n",
       " 'Untitled.ipynb',\n",
       " 'while.ipynb']"
      ]
     },
     "execution_count": 10,
     "metadata": {},
     "output_type": "execute_result"
    }
   ],
   "source": [
    "import os \n",
    "os.listdir()"
   ]
  },
  {
   "cell_type": "code",
   "execution_count": 11,
   "id": "5917ba0f",
   "metadata": {},
   "outputs": [],
   "source": [
    "os.mkdir('New_Folder') #for creating a new folder"
   ]
  },
  {
   "cell_type": "code",
   "execution_count": 12,
   "id": "60cf5df6",
   "metadata": {},
   "outputs": [],
   "source": [
    "os.rename('New_Folder','jatin new_folder') #for renaming the folder"
   ]
  },
  {
   "cell_type": "code",
   "execution_count": 13,
   "id": "7d45458d",
   "metadata": {},
   "outputs": [],
   "source": [
    "os.chdir('jatin new_folder') #for entering in jatin new_folder"
   ]
  },
  {
   "cell_type": "code",
   "execution_count": 14,
   "id": "dab2380f",
   "metadata": {},
   "outputs": [
    {
     "data": {
      "text/plain": [
       "'C:\\\\Users\\\\jatin\\\\Desktop\\\\Python with Django\\\\jatin new_folder'"
      ]
     },
     "execution_count": 14,
     "metadata": {},
     "output_type": "execute_result"
    }
   ],
   "source": [
    "pwd"
   ]
  },
  {
   "cell_type": "code",
   "execution_count": 15,
   "id": "8dfcb5dd",
   "metadata": {},
   "outputs": [
    {
     "name": "stdout",
     "output_type": "stream",
     "text": [
      "C:\\Users\\jatin\\Desktop\\Python with Django\n"
     ]
    }
   ],
   "source": [
    "cd .."
   ]
  },
  {
   "cell_type": "code",
   "execution_count": 16,
   "id": "fad21804",
   "metadata": {},
   "outputs": [
    {
     "data": {
      "text/plain": [
       "'C:\\\\Users\\\\jatin\\\\Desktop\\\\Python with Django'"
      ]
     },
     "execution_count": 16,
     "metadata": {},
     "output_type": "execute_result"
    }
   ],
   "source": [
    "pwd"
   ]
  },
  {
   "cell_type": "code",
   "execution_count": 17,
   "id": "b637a610",
   "metadata": {},
   "outputs": [
    {
     "name": "stdout",
     "output_type": "stream",
     "text": [
      "C:\\Users\\jatin\\Desktop\\Python with Django\\jatin new_folder\n"
     ]
    }
   ],
   "source": [
    "cd jatin new_folder"
   ]
  },
  {
   "cell_type": "code",
   "execution_count": 18,
   "id": "e73bd0ed",
   "metadata": {},
   "outputs": [
    {
     "name": "stdout",
     "output_type": "stream",
     "text": [
      "C:\\Users\\jatin\\Desktop\\Python with Django\n"
     ]
    }
   ],
   "source": [
    "cd .."
   ]
  },
  {
   "cell_type": "code",
   "execution_count": 19,
   "id": "d267b52a",
   "metadata": {},
   "outputs": [],
   "source": [
    "os.remove('data.txt') "
   ]
  },
  {
   "cell_type": "code",
   "execution_count": 20,
   "id": "347f00b5",
   "metadata": {},
   "outputs": [],
   "source": [
    "os.rmdir('jatin new_folder') #for removing directory"
   ]
  },
  {
   "cell_type": "code",
   "execution_count": 21,
   "id": "d7f12ddc",
   "metadata": {},
   "outputs": [],
   "source": [
    "#python re ....(Regular Expression)"
   ]
  },
  {
   "cell_type": "code",
   "execution_count": 24,
   "id": "ef06f568",
   "metadata": {},
   "outputs": [
    {
     "name": "stdout",
     "output_type": "stream",
     "text": [
      "['ai', 'ai']\n"
     ]
    }
   ],
   "source": [
    "\n",
    "import re\n",
    "\n",
    "#Return a list containing every occurrence of \"ai\":\n",
    "\n",
    "txt = \"The rain in Spain\"\n",
    "x = re.findall(\"ai\", txt)\n",
    "print(x)"
   ]
  },
  {
   "cell_type": "code",
   "execution_count": 26,
   "id": "dd5b9a0b",
   "metadata": {},
   "outputs": [
    {
     "name": "stdout",
     "output_type": "stream",
     "text": [
      "None\n",
      "<re.Match object; span=(12, 15), match='KTM'>\n"
     ]
    }
   ],
   "source": [
    "import re\n",
    "\n",
    "txt = \"The rain in Spain\"\n",
    "x = re.search(\"Portugal\", txt)\n",
    "print(x)\n",
    "\n",
    "\n",
    "import re \n",
    "txt = \"The rain in KTM\"\n",
    "x = re.search(\"KTM\", txt )\n",
    "print(x)"
   ]
  },
  {
   "cell_type": "code",
   "execution_count": null,
   "id": "78204942",
   "metadata": {},
   "outputs": [],
   "source": []
  }
 ],
 "metadata": {
  "kernelspec": {
   "display_name": "Python 3 (ipykernel)",
   "language": "python",
   "name": "python3"
  },
  "language_info": {
   "codemirror_mode": {
    "name": "ipython",
    "version": 3
   },
   "file_extension": ".py",
   "mimetype": "text/x-python",
   "name": "python",
   "nbconvert_exporter": "python",
   "pygments_lexer": "ipython3",
   "version": "3.10.9"
  }
 },
 "nbformat": 4,
 "nbformat_minor": 5
}
