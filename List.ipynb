{
 "cells": [
  {
   "cell_type": "code",
   "execution_count": null,
   "id": "2042d73a",
   "metadata": {},
   "outputs": [],
   "source": [
    "#Python collection\n",
    "#list \n",
    "#tuple\n",
    "#dic\n",
    "#set\n"
   ]
  },
  {
   "cell_type": "code",
   "execution_count": 1,
   "id": "dc7d67da",
   "metadata": {},
   "outputs": [
    {
     "ename": "SyntaxError",
     "evalue": "invalid syntax (2073667286.py, line 3)",
     "output_type": "error",
     "traceback": [
      "\u001b[1;36m  Cell \u001b[1;32mIn[1], line 3\u001b[1;36m\u001b[0m\n\u001b[1;33m    Multiple and duplicate data\u001b[0m\n\u001b[1;37m                           ^\u001b[0m\n\u001b[1;31mSyntaxError\u001b[0m\u001b[1;31m:\u001b[0m invalid syntax\n"
     ]
    }
   ],
   "source": [
    "# List\n",
    "#Indexing\n",
    "#Multiple and duplicate data\n",
    "#Ordered\n",
    "#Mutable"
   ]
  },
  {
   "cell_type": "code",
   "execution_count": 2,
   "id": "a8ef013a",
   "metadata": {},
   "outputs": [
    {
     "name": "stdout",
     "output_type": "stream",
     "text": [
      "<class 'list'>\n",
      "<class 'list'>\n"
     ]
    }
   ],
   "source": [
    "a = [\"Apple\", \"Ball\", \"Cat\", \"Fish\"]\n",
    "b = [1,2,3,4,5,6,7,8,9]\n",
    "print(type(a))\n",
    "print(type(b))\n"
   ]
  },
  {
   "cell_type": "code",
   "execution_count": 5,
   "id": "d0c7e54e",
   "metadata": {},
   "outputs": [
    {
     "name": "stdout",
     "output_type": "stream",
     "text": [
      "Apple\n",
      "['Apple', 'Ball', 'Cat']\n",
      "['Apple', 'Cat']\n"
     ]
    }
   ],
   "source": [
    "a = [\"Apple\", \"Ball\", \"Cat\", \"Fish\"]\n",
    "print(a[0])\n",
    "print(a[0:3])\n",
    "print(a[0:3:2])"
   ]
  },
  {
   "cell_type": "code",
   "execution_count": 7,
   "id": "9b1a69cd",
   "metadata": {},
   "outputs": [
    {
     "name": "stdout",
     "output_type": "stream",
     "text": [
      "[1, 2, 3, 4, 5, 6, 7, 8, 9, 1, 2, 3, 4]\n",
      "13\n"
     ]
    }
   ],
   "source": [
    "b = [1,2,3,4,5,6,7,8,9,1,2,3,4]\n",
    "print(b)\n",
    "print(len(b))"
   ]
  },
  {
   "cell_type": "code",
   "execution_count": 11,
   "id": "2cb1e8ca",
   "metadata": {},
   "outputs": [
    {
     "name": "stdout",
     "output_type": "stream",
     "text": [
      "['Apple', 'Ball', 'Cat', 'Fish', 1, 2, 3, 4, 5, 6, 7, 8, 91, 2, 3, 4]\n",
      "[1, 2, 3, 4, 5, 6, 7, 8, 91, 2, 3, 4, 'Apple', 'Ball', 'Cat', 'Fish']\n",
      "['Apple', 'Ball', 'Cat', 'Fish', 'Apple', 'Ball', 'Cat', 'Fish']\n"
     ]
    }
   ],
   "source": [
    "a = [\"Apple\", \"Ball\", \"Cat\", \"Fish\"]\n",
    "b = [1,2,3,4,5,6,7,8,9,1,2,3,4]\n",
    "c = a+b\n",
    "print(c)\n",
    "d= b+a\n",
    "print(d)\n",
    "e = a*2\n",
    "print(e)"
   ]
  },
  {
   "cell_type": "code",
   "execution_count": 13,
   "id": "18bbd6f1",
   "metadata": {},
   "outputs": [
    {
     "name": "stdout",
     "output_type": "stream",
     "text": [
      "[1, 2, 3, 4, 5, 6, 7, 8, 9, 1, 2, 3, 4, 1, 2, 3, 4, 5, 6, 7, 8, 9, 1, 2, 3, 4]\n"
     ]
    }
   ],
   "source": [
    "b = [1,2,3,4,5,6,7,8,9,1,2,3,4]\n",
    "print(b*2)"
   ]
  },
  {
   "cell_type": "code",
   "execution_count": 14,
   "id": "9100205c",
   "metadata": {},
   "outputs": [
    {
     "data": {
      "text/plain": [
       "['Apple', 'Ball']"
      ]
     },
     "execution_count": 14,
     "metadata": {},
     "output_type": "execute_result"
    }
   ],
   "source": [
    "# a = []\n",
    "a = list()\n",
    "a = a + [\"Apple\"]\n",
    "a = a + [\"Ball\"]\n",
    "a"
   ]
  },
  {
   "cell_type": "code",
   "execution_count": 15,
   "id": "54106e30",
   "metadata": {},
   "outputs": [
    {
     "name": "stdout",
     "output_type": "stream",
     "text": [
      "Enter n = 2\n",
      "Enter x = 234\n",
      "[234]\n",
      "Enter x = 567\n",
      "[234, 567]\n"
     ]
    }
   ],
   "source": [
    "a = []\n",
    "n = int(input(\"Enter n = \"))\n",
    "for i in range(n):\n",
    "    x = int(input(\"Enter x = \"))\n",
    "    a = a + [x]\n",
    "    \n",
    "print(a)"
   ]
  },
  {
   "cell_type": "code",
   "execution_count": 16,
   "id": "bbbcc758",
   "metadata": {},
   "outputs": [
    {
     "name": "stdout",
     "output_type": "stream",
     "text": [
      "The max value =  789\n",
      "The min value =  123\n",
      "The sum =  3514\n",
      "The avg =  390.44444444444446\n"
     ]
    }
   ],
   "source": [
    "a = [234,567,123,245,353,535,335,333,12,16,789]\n",
    "print(\"The max value = \",max(a))\n",
    "print(\"The min value = \",min(a))\n",
    "print(\"The sum = \",sum(a))\n",
    "print(\"The avg = \",sum(a)/len(a))"
   ]
  },
  {
   "cell_type": "code",
   "execution_count": 20,
   "id": "93e89c15",
   "metadata": {},
   "outputs": [
    {
     "name": "stdout",
     "output_type": "stream",
     "text": [
      "[12, 16, 123, 234, 245, 333, 335, 353, 535, 567, 789]\n"
     ]
    }
   ],
   "source": [
    "a = [234,567,123,245,353,535,335,333,12,16,789]\n",
    "a.sort() #for ascending order\n",
    "print(a)"
   ]
  },
  {
   "cell_type": "code",
   "execution_count": 19,
   "id": "1af6d26a",
   "metadata": {},
   "outputs": [
    {
     "name": "stdout",
     "output_type": "stream",
     "text": [
      "[789, 16, 12, 333, 335, 535, 353, 245, 123, 567, 234]\n"
     ]
    }
   ],
   "source": [
    "a = [234,567,123,245,353,535,335,333,12,16,789]\n",
    "a.reverse() #for reversing\n",
    "print(a)"
   ]
  },
  {
   "cell_type": "code",
   "execution_count": 25,
   "id": "c4dba11d",
   "metadata": {},
   "outputs": [
    {
     "name": "stdout",
     "output_type": "stream",
     "text": [
      "['Apple', 'Banana', 'Cat', 'Xray', 'Zebra']\n"
     ]
    }
   ],
   "source": [
    "a = [\"Zebra\",\"Banana\",\"Xray\",\"Apple\",\"Cat\"]\n",
    "a.sort()\n",
    "print(a)"
   ]
  },
  {
   "cell_type": "code",
   "execution_count": 27,
   "id": "1b30702b",
   "metadata": {},
   "outputs": [
    {
     "name": "stdout",
     "output_type": "stream",
     "text": [
      "['Banana', 'Cat', 'apple', 'xray', 'zebra']\n"
     ]
    }
   ],
   "source": [
    "a = [\"zebra\",\"Banana\",\"xray\",\"apple\",\"Cat\"]\n",
    "a.sort()\n",
    "print(a)"
   ]
  },
  {
   "cell_type": "code",
   "execution_count": 28,
   "id": "7dfa0113",
   "metadata": {},
   "outputs": [
    {
     "name": "stdout",
     "output_type": "stream",
     "text": [
      "['1xray', 'Banana', 'Cat', 'apple', 'zebra']\n"
     ]
    }
   ],
   "source": [
    "a = [\"zebra\",\"Banana\",\"1xray\",\"apple\",\"Cat\"]\n",
    "a.sort()\n",
    "print(a)"
   ]
  },
  {
   "cell_type": "code",
   "execution_count": null,
   "id": "6d51b4d7",
   "metadata": {},
   "outputs": [],
   "source": [
    "# data entryvalue\n",
    "# append() insert() extend()\n",
    "\n",
    "# delete value\n",
    "# del remove() pop()"
   ]
  },
  {
   "cell_type": "code",
   "execution_count": 29,
   "id": "6ddd6c95",
   "metadata": {},
   "outputs": [
    {
     "name": "stdout",
     "output_type": "stream",
     "text": [
      "['Apple', 'Banana']\n"
     ]
    }
   ],
   "source": [
    "# append\n",
    "a = []\n",
    "a.append(\"Apple\")\n",
    "a.append(\"Banana\")\n",
    "print(a)"
   ]
  },
  {
   "cell_type": "code",
   "execution_count": 31,
   "id": "8f9ef99a",
   "metadata": {},
   "outputs": [
    {
     "name": "stdout",
     "output_type": "stream",
     "text": [
      "Enter n = 2\n",
      "Enter x = 12\n",
      "Enter x = 45\n",
      "[12, 45]\n"
     ]
    }
   ],
   "source": [
    "a = []\n",
    "n = int(input(\"Enter n = \"))\n",
    "for i in range(n):\n",
    "    x = int(input(\"Enter x = \"))\n",
    "    a.append(x)\n",
    "    \n",
    "print(a)"
   ]
  },
  {
   "cell_type": "code",
   "execution_count": 34,
   "id": "90732018",
   "metadata": {},
   "outputs": [
    {
     "name": "stdout",
     "output_type": "stream",
     "text": [
      "Enter n = 4\n",
      "Enter x = 123\n",
      "[123]\n",
      "Enter x = 455\n",
      "[123, 455]\n",
      "Enter x = 333\n",
      "[123, 455, 333]\n",
      "Enter x = 666\n",
      "[123, 455, 333, 666]\n"
     ]
    }
   ],
   "source": [
    "a = []\n",
    "n = int(input(\"Enter n = \"))\n",
    "for i in range(n):\n",
    "    x = int(input(\"Enter x = \"))\n",
    "    a.append(x)\n",
    "    \n",
    "    print(a)"
   ]
  },
  {
   "cell_type": "code",
   "execution_count": 35,
   "id": "33956007",
   "metadata": {},
   "outputs": [
    {
     "data": {
      "text/plain": [
       "[123, 100, 455, 333, 666]"
      ]
     },
     "execution_count": 35,
     "metadata": {},
     "output_type": "execute_result"
    }
   ],
   "source": [
    "a = [123, 455, 333, 666]\n",
    "a.insert(1,100)\n",
    "a"
   ]
  },
  {
   "cell_type": "code",
   "execution_count": null,
   "id": "07ee9088",
   "metadata": {},
   "outputs": [],
   "source": [
    "# a = [1,\"One\",10l.5]\n"
   ]
  },
  {
   "cell_type": "code",
   "execution_count": 41,
   "id": "2f8d3d17",
   "metadata": {},
   "outputs": [
    {
     "data": {
      "text/plain": [
       "[123, 455, 333, 666, 1, 2, 3, 4]"
      ]
     },
     "execution_count": 41,
     "metadata": {},
     "output_type": "execute_result"
    }
   ],
   "source": [
    "a = [123, 455, 333, 666] \n",
    "b = [1,2,3,4]\n",
    "a.extend(b)\n",
    "a\n",
    "a "
   ]
  },
  {
   "cell_type": "code",
   "execution_count": 44,
   "id": "0947ce50",
   "metadata": {},
   "outputs": [
    {
     "data": {
      "text/plain": [
       "['zebra', 'Banana', '1xray', 'apple', 'Cat']"
      ]
     },
     "execution_count": 44,
     "metadata": {},
     "output_type": "execute_result"
    }
   ],
   "source": [
    "#update\n",
    "a = [\"Zebra\",\"Banana\",\"1xray\",\"apple\",\"Cat\"]\n",
    "a[0] = \"zebra\"\n",
    "a"
   ]
  },
  {
   "cell_type": "code",
   "execution_count": 47,
   "id": "36104738",
   "metadata": {},
   "outputs": [
    {
     "data": {
      "text/plain": [
       "0"
      ]
     },
     "execution_count": 47,
     "metadata": {},
     "output_type": "execute_result"
    }
   ],
   "source": [
    "#index (starts with 0)\n",
    "a = [\"Zebra\",\"Banana\",\"1xray\",\"apple\",\"Cat\"]\n",
    "a.index(\"Zebra\")"
   ]
  },
  {
   "cell_type": "code",
   "execution_count": 55,
   "id": "0ec6bafd",
   "metadata": {},
   "outputs": [
    {
     "name": "stdout",
     "output_type": "stream",
     "text": [
      "0\n",
      "5\n"
     ]
    }
   ],
   "source": [
    "#index\n",
    "a = [\"Zebra\",\"Banana\",\"1xray\",\"apple\",\"Cat\",\"Zebra\"]\n",
    "for i in range(len(a)):\n",
    "    if a[i] == \"Zebra\":\n",
    "        print(i)"
   ]
  },
  {
   "cell_type": "code",
   "execution_count": 60,
   "id": "bec1017d",
   "metadata": {},
   "outputs": [
    {
     "name": "stdout",
     "output_type": "stream",
     "text": [
      "['zebra', 'Banana', '1xray', 'apple', 'Cat', 'zebra']\n"
     ]
    }
   ],
   "source": [
    "# update multiple values\n",
    "a = [\"Zebra\",\"Banana\",\"1xray\",\"apple\",\"Cat\",\"Zebra\"]\n",
    "for i in range(len(a)):\n",
    "    if a[i] == \"Zebra\":\n",
    "        a[i] = \"zebra\"\n",
    "        \n",
    "print(a)"
   ]
  },
  {
   "cell_type": "code",
   "execution_count": 64,
   "id": "5ffbd992",
   "metadata": {},
   "outputs": [
    {
     "name": "stdout",
     "output_type": "stream",
     "text": [
      "['Banana', '1xray', 'apple', 'Cat', 'Zebra']\n"
     ]
    }
   ],
   "source": [
    "# delete\n",
    "a = [\"Zebra\",\"Banana\",\"1xray\",\"apple\",\"Cat\",\"Zebra\"]\n",
    "del a[0]\n",
    "print(a)"
   ]
  },
  {
   "cell_type": "code",
   "execution_count": 65,
   "id": "f6b0bfd9",
   "metadata": {},
   "outputs": [
    {
     "name": "stdout",
     "output_type": "stream",
     "text": [
      "['Zebra', '1xray', 'apple', 'Cat', 'Zebra']\n"
     ]
    }
   ],
   "source": [
    "# remove\n",
    "a = [\"Zebra\",\"Banana\",\"1xray\",\"apple\",\"Cat\",\"Zebra\"]\n",
    "a.remove(\"Banana\")\n",
    "print(a)"
   ]
  },
  {
   "cell_type": "code",
   "execution_count": 67,
   "id": "f1eef4dd",
   "metadata": {},
   "outputs": [
    {
     "name": "stdout",
     "output_type": "stream",
     "text": [
      "['Banana', '1xray', 'apple', 'Cat', 'Zebra']\n"
     ]
    }
   ],
   "source": [
    "# pop()\n",
    "a = [\"Zebra\",\"Banana\",\"1xray\",\"apple\",\"Cat\",\"Zebra\"]\n",
    "a.pop(0)\n",
    "print(a)"
   ]
  },
  {
   "cell_type": "code",
   "execution_count": null,
   "id": "18c43984",
   "metadata": {},
   "outputs": [],
   "source": []
  }
 ],
 "metadata": {
  "kernelspec": {
   "display_name": "Python 3 (ipykernel)",
   "language": "python",
   "name": "python3"
  },
  "language_info": {
   "codemirror_mode": {
    "name": "ipython",
    "version": 3
   },
   "file_extension": ".py",
   "mimetype": "text/x-python",
   "name": "python",
   "nbconvert_exporter": "python",
   "pygments_lexer": "ipython3",
   "version": "3.10.9"
  }
 },
 "nbformat": 4,
 "nbformat_minor": 5
}
