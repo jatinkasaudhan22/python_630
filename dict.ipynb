{
 "cells": [
  {
   "cell_type": "code",
   "execution_count": null,
   "id": "27f45a24",
   "metadata": {},
   "outputs": [],
   "source": [
    "# Dict\n",
    "# -Indexing\n",
    "# -Multiple data\n",
    "# -Ordered\n",
    "# -Mutable"
   ]
  },
  {
   "cell_type": "code",
   "execution_count": null,
   "id": "ce515c56",
   "metadata": {},
   "outputs": [],
   "source": [
    "# d = {<key>:<value>, <key>:<value>,<key>:<value>}"
   ]
  },
  {
   "cell_type": "code",
   "execution_count": 1,
   "id": "82c000c9",
   "metadata": {},
   "outputs": [
    {
     "name": "stdout",
     "output_type": "stream",
     "text": [
      "{'a': 'Apple', 'b': 'Ball'}\n",
      "2\n"
     ]
    }
   ],
   "source": [
    "d = {\"a\":\"Apple\",\"b\":\"Ball\"}\n",
    "print(d)\n",
    "print(len(d))"
   ]
  },
  {
   "cell_type": "code",
   "execution_count": 2,
   "id": "c70d4408",
   "metadata": {},
   "outputs": [
    {
     "name": "stdout",
     "output_type": "stream",
     "text": [
      "Apple\n"
     ]
    }
   ],
   "source": [
    "print(d[\"a\"])"
   ]
  },
  {
   "cell_type": "code",
   "execution_count": 3,
   "id": "1a3b7d21",
   "metadata": {},
   "outputs": [
    {
     "name": "stdout",
     "output_type": "stream",
     "text": [
      "Ball\n"
     ]
    }
   ],
   "source": [
    "print(d[\"b\"])"
   ]
  },
  {
   "cell_type": "code",
   "execution_count": 4,
   "id": "dc50c7c0",
   "metadata": {},
   "outputs": [
    {
     "name": "stdout",
     "output_type": "stream",
     "text": [
      "{'a': 'Apple', 'b': 'Ball'}\n"
     ]
    }
   ],
   "source": [
    "d = {\"a\":\"Apple\",\"b\":\"Ball\"}\n",
    "print(d)"
   ]
  },
  {
   "cell_type": "code",
   "execution_count": null,
   "id": "34019b42",
   "metadata": {},
   "outputs": [],
   "source": [
    "# d = dict()\n",
    "# d = {}"
   ]
  },
  {
   "cell_type": "code",
   "execution_count": 6,
   "id": "6ebfb023",
   "metadata": {},
   "outputs": [
    {
     "data": {
      "text/plain": [
       "{'a': 'Apple', 'b': 'Ball', 'c': 'Cat'}"
      ]
     },
     "execution_count": 6,
     "metadata": {},
     "output_type": "execute_result"
    }
   ],
   "source": [
    "d = {}\n",
    "d['a'] = \"Apple\"\n",
    "d['b'] = \"Ball\"\n",
    "d['c'] = \"Cat\"\n",
    "d"
   ]
  },
  {
   "cell_type": "code",
   "execution_count": 8,
   "id": "3317688d",
   "metadata": {},
   "outputs": [
    {
     "data": {
      "text/plain": [
       "{'a': 'Apple', 'b': 'apple', 'c': 'Cat'}"
      ]
     },
     "execution_count": 8,
     "metadata": {},
     "output_type": "execute_result"
    }
   ],
   "source": [
    "a = {'a': 'Apple', 'b': 'Ball', 'c': 'Cat'}\n",
    "a['b'] = \"apple\"\n",
    "a"
   ]
  },
  {
   "cell_type": "code",
   "execution_count": 10,
   "id": "19806e13",
   "metadata": {},
   "outputs": [
    {
     "data": {
      "text/plain": [
       "{'a': 'Ant', 'b': 'Ball', 'c': 'Cat'}"
      ]
     },
     "execution_count": 10,
     "metadata": {},
     "output_type": "execute_result"
    }
   ],
   "source": [
    "a = {'a': 'Apple', 'b': 'Ball', 'c': 'Cat'}\n",
    "a['a'] = \"Ant\"\n",
    "a"
   ]
  },
  {
   "cell_type": "code",
   "execution_count": 11,
   "id": "7d5d2c93",
   "metadata": {},
   "outputs": [
    {
     "name": "stdout",
     "output_type": "stream",
     "text": [
      "a\n",
      "b\n",
      "c\n"
     ]
    }
   ],
   "source": [
    "a = {'a': 'Apple', 'b': 'Ball', 'c': 'Cat'}\n",
    "for i in a:\n",
    "    print(i)"
   ]
  },
  {
   "cell_type": "code",
   "execution_count": 13,
   "id": "61134417",
   "metadata": {},
   "outputs": [
    {
     "name": "stdout",
     "output_type": "stream",
     "text": [
      "Apple\n",
      "Ball\n",
      "Cat\n"
     ]
    }
   ],
   "source": [
    "a = {'a': 'Apple', 'b': 'Ball', 'c': 'Cat'}\n",
    "for i in a.values():\n",
    "    print(i)"
   ]
  },
  {
   "cell_type": "code",
   "execution_count": 14,
   "id": "e93e2800",
   "metadata": {},
   "outputs": [
    {
     "name": "stdout",
     "output_type": "stream",
     "text": [
      "('a', 'Apple')\n",
      "('b', 'Ball')\n",
      "('c', 'Cat')\n"
     ]
    }
   ],
   "source": [
    "a = {'a': 'Apple', 'b': 'Ball', 'c': 'Cat'}\n",
    "for i in a.items():\n",
    "    print(i)"
   ]
  },
  {
   "cell_type": "code",
   "execution_count": 18,
   "id": "1ea7d3bc",
   "metadata": {},
   "outputs": [
    {
     "name": "stdout",
     "output_type": "stream",
     "text": [
      "Enter n = 2\n",
      "Enter name = jatin\n",
      "Enter phone = 9821574477\n",
      "Enter name = liam\n",
      "Enter phone = 9867835225\n",
      "{'jatin': 9821574477, 'liam': 9867835225}\n"
     ]
    }
   ],
   "source": [
    "d = {}\n",
    "n = int(input(\"Enter n = \"))\n",
    "for i in range(n):\n",
    "    name = input(\"Enter name = \")\n",
    "    phone = int(input(\"Enter phone = \"))\n",
    "    d[name] = phone #duplication of name should not be there\n",
    "    \n",
    "print(d)"
   ]
  },
  {
   "cell_type": "code",
   "execution_count": 19,
   "id": "0c0004c4",
   "metadata": {},
   "outputs": [
    {
     "data": {
      "text/plain": [
       "{'a': 'Apple', 'b': 'Ball', 'c': 'Cat'}"
      ]
     },
     "execution_count": 19,
     "metadata": {},
     "output_type": "execute_result"
    }
   ],
   "source": [
    "a = {}\n",
    "a['a'] = 'Apple'\n",
    "a['b'] = 'Ball'\n",
    "a['c'] = 'Cat'\n",
    "a"
   ]
  },
  {
   "cell_type": "code",
   "execution_count": 23,
   "id": "c42c4f79",
   "metadata": {},
   "outputs": [
    {
     "data": {
      "text/plain": [
       "{'a': 'Apple', 'b': 'ball', 'c': 'Cat', 'e': 'Egg', 'f': 'Fish'}"
      ]
     },
     "execution_count": 23,
     "metadata": {},
     "output_type": "execute_result"
    }
   ],
   "source": [
    "# NO + * (Artithmetic operators cannot be used)\n",
    "d = {'a': 'Apple', 'b': 'Ball', 'c': 'Cat'}\n",
    "a = {'e':'Egg', 'f':'Fish'}\n",
    "d.update(a)\n",
    "d"
   ]
  },
  {
   "cell_type": "code",
   "execution_count": 24,
   "id": "ff5b4079",
   "metadata": {},
   "outputs": [
    {
     "data": {
      "text/plain": [
       "{'b': 'ball', 'c': 'Cat', 'e': 'Egg', 'f': 'Fish'}"
      ]
     },
     "execution_count": 24,
     "metadata": {},
     "output_type": "execute_result"
    }
   ],
   "source": [
    "# del\n",
    "a = {'a': 'Apple', 'b': 'ball', 'c': 'Cat', 'e': 'Egg', 'f': 'Fish'}\n",
    "del a['a']\n",
    "a"
   ]
  },
  {
   "cell_type": "code",
   "execution_count": 27,
   "id": "01d8425a",
   "metadata": {},
   "outputs": [
    {
     "name": "stdout",
     "output_type": "stream",
     "text": [
      "{'b': 'ball', 'c': 'Cat', 'e': 'Egg', 'f': 'Fish'}\n",
      "Apple\n"
     ]
    }
   ],
   "source": [
    "# pop\n",
    "a = {'a': 'Apple', 'b': 'ball', 'c': 'Cat', 'e': 'Egg', 'f': 'Fish'}\n",
    "b = a.pop('a')\n",
    "print(a)\n",
    "print(b)"
   ]
  },
  {
   "cell_type": "code",
   "execution_count": null,
   "id": "3c69b402",
   "metadata": {},
   "outputs": [],
   "source": [
    "#list inside dict"
   ]
  },
  {
   "cell_type": "code",
   "execution_count": 34,
   "id": "c86da4f2",
   "metadata": {},
   "outputs": [
    {
     "data": {
      "text/plain": [
       "{'Ram': [9841574477, 982345678], 'Shyam': [9852122211, 9817025532]}"
      ]
     },
     "execution_count": 34,
     "metadata": {},
     "output_type": "execute_result"
    }
   ],
   "source": [
    "a = {'Ram':[9841574477,982345678],'Shyam':[9852122211,9817025532]}\n",
    "a"
   ]
  },
  {
   "cell_type": "code",
   "execution_count": 35,
   "id": "1253c841",
   "metadata": {},
   "outputs": [
    {
     "data": {
      "text/plain": [
       "9841574477"
      ]
     },
     "execution_count": 35,
     "metadata": {},
     "output_type": "execute_result"
    }
   ],
   "source": [
    "a['Ram'][0]\n"
   ]
  },
  {
   "cell_type": "code",
   "execution_count": 39,
   "id": "2570fa49",
   "metadata": {},
   "outputs": [
    {
     "data": {
      "text/plain": [
       "{'Ram': [9848400000, 982345678], 'Shyam': [9852122211, 9817025532]}"
      ]
     },
     "execution_count": 39,
     "metadata": {},
     "output_type": "execute_result"
    }
   ],
   "source": [
    "a['Ram'][0] = 9848400000\n",
    "a"
   ]
  },
  {
   "cell_type": "code",
   "execution_count": 43,
   "id": "6183ee64",
   "metadata": {},
   "outputs": [
    {
     "name": "stdout",
     "output_type": "stream",
     "text": [
      "Enter n = 2\n",
      "Enter name = jatin\n",
      "Enter ntc phone = 9867835225\n",
      "Enter ncell phone = 9821574477\n",
      "Enter name = liam\n",
      "Enter ntc phone = 9857025532\n",
      "Enter ncell phone = 9811569546\n",
      "{'jatin': [9867835225, 9821574477], 'liam': [9857025532, 9811569546]}\n"
     ]
    }
   ],
   "source": [
    "d = {}\n",
    "n = int(input(\"Enter n = \"))\n",
    "for i in range(n):\n",
    "    name = input(\"Enter name = \")\n",
    "    ntc_phone = int(input(\"Enter ntc phone = \"))\n",
    "    ncell_phone = int(input(\"Enter ncell phone = \"))\n",
    "    d[name] = [ntc_phone,ncell_phone]\n",
    "    \n",
    "print(d)"
   ]
  },
  {
   "cell_type": "code",
   "execution_count": 60,
   "id": "2ddbeff3",
   "metadata": {},
   "outputs": [
    {
     "data": {
      "text/plain": [
       "{'name': ['Ram', 'Shyam', 'Hari', 'Ram'],\n",
       " 'age': [78, 89, 20, 89],\n",
       " 'add': ['Kathmandu', 'Bhaktapur', 'Lalitpur', 'Kathmandu']}"
      ]
     },
     "execution_count": 60,
     "metadata": {},
     "output_type": "execute_result"
    }
   ],
   "source": [
    "info =  {'name':['Ram',\"Shyam\",\"Hari\",\"Ram\"],\n",
    "         'age':[78,89,20,89],\n",
    "         'add':['Kathmandu','Bhaktapur','Lalitpur',\"Kathmandu\"]\n",
    "        }\n",
    "info"
   ]
  },
  {
   "cell_type": "code",
   "execution_count": 55,
   "id": "dc3c06aa",
   "metadata": {},
   "outputs": [
    {
     "name": "stdout",
     "output_type": "stream",
     "text": [
      "Ram\n",
      "78\n",
      "Kathmandu\n"
     ]
    }
   ],
   "source": [
    "print(info['name'][0])\n",
    "print(info['age'][0])  #info['age'][0] = 99 for replcaing the age\n",
    "print(info['add'][0])"
   ]
  },
  {
   "cell_type": "code",
   "execution_count": 61,
   "id": "620a598e",
   "metadata": {},
   "outputs": [
    {
     "name": "stdout",
     "output_type": "stream",
     "text": [
      "0\n",
      "1\n",
      "2\n",
      "3\n"
     ]
    }
   ],
   "source": [
    "l = []\n",
    "c= 0\n",
    "for i in info['name']:\n",
    "    if\"Ram\" == i:\n",
    "        l.append(c) \n",
    "    print(c)\n",
    "    c = c+1 \n",
    "    "
   ]
  },
  {
   "cell_type": "code",
   "execution_count": null,
   "id": "b3dc7bcd",
   "metadata": {},
   "outputs": [],
   "source": []
  },
  {
   "cell_type": "code",
   "execution_count": 66,
   "id": "402975f6",
   "metadata": {},
   "outputs": [
    {
     "data": {
      "text/plain": [
       "{'name': 'Hari', 'age': '42', 'add': 'Lalitpur'}"
      ]
     },
     "execution_count": 66,
     "metadata": {},
     "output_type": "execute_result"
    }
   ],
   "source": [
    "# dict inside list \n",
    "data = [{'name':'Ram','age':'40','add':'Kathmandu'},\n",
    "       {'name':'Shyam','age':'41','add':'Bhaktapur'},\n",
    "       {'name':'Hari','age':'42','add':'Lalitpur'}]\n",
    "\n",
    "data[2]"
   ]
  },
  {
   "cell_type": "code",
   "execution_count": 68,
   "id": "3425959f",
   "metadata": {},
   "outputs": [
    {
     "data": {
      "text/plain": [
       "[{'name': 'Ram', 'age': '40', 'add': ['Kathmandu', 'Butwal']},\n",
       " {'name': 'Shyam', 'age': '41', 'add': ['Bhaktapur', 'Chitwan']},\n",
       " {'name': 'Hari', 'age': '42', 'add': ['Lalitpur', 'Boudha']}]"
      ]
     },
     "execution_count": 68,
     "metadata": {},
     "output_type": "execute_result"
    }
   ],
   "source": [
    "# dict inside list \n",
    "data = [{'name':'Ram','age':'40','add':['Kathmandu','Butwal']},\n",
    "       {'name':'Shyam','age':'41','add':['Bhaktapur','Chitwan']},\n",
    "       {'name':'Hari','age':'42','add':['Lalitpur','Boudha']}]\n",
    "\n",
    "data"
   ]
  },
  {
   "cell_type": "code",
   "execution_count": 69,
   "id": "7dabd7f4",
   "metadata": {},
   "outputs": [
    {
     "ename": "SyntaxError",
     "evalue": "invalid syntax (2109122057.py, line 2)",
     "output_type": "error",
     "traceback": [
      "\u001b[1;36m  Cell \u001b[1;32mIn[69], line 2\u001b[1;36m\u001b[0m\n\u001b[1;33m    data = {1:'name':'Ram','age':'40','add':'Kathmandu'},\u001b[0m\n\u001b[1;37m                    ^\u001b[0m\n\u001b[1;31mSyntaxError\u001b[0m\u001b[1;31m:\u001b[0m invalid syntax\n"
     ]
    }
   ],
   "source": [
    "# dict inside dict\n",
    "data = {1:{'name':'Ram','age':'40','add':'Kathmandu'},\n",
    "        2:{'name':'Shyam','age':'41','add':'Bhaktapur'},\n",
    "        3:{'name':'Hari','age':'42','add':'Lalitpur'}}\n",
    "            "
   ]
  },
  {
   "cell_type": "code",
   "execution_count": null,
   "id": "58418db5",
   "metadata": {},
   "outputs": [],
   "source": [
    "WAP to create dict inside dict with CRUD\n",
    "WAP to create list inside dict with CRUD\n",
    "WAP to create dict inside list with CRUD "
   ]
  },
  {
   "cell_type": "code",
   "execution_count": 70,
   "id": "4dc5bb69",
   "metadata": {},
   "outputs": [
    {
     "name": "stdout",
     "output_type": "stream",
     "text": [
      "Enter n = 2\n",
      "Enter name = jatin\n",
      "Enter age = 20\n",
      "Enter add = kathmandu\n",
      "Enter name = liam\n",
      "Enter age = 1\n",
      "Enter add = germany\n",
      "{'name': ['jatin', 'liam'], 'age': [20, 1], 'add': ['kathmandu', 'germany']}\n"
     ]
    }
   ],
   "source": [
    "# WAP to create list inside dict with CRUD\n",
    "d = {'name':[],'age':[],'add':[]}\n",
    "n = int(input(\"Enter n = \"))\n",
    "for i in range(n):\n",
    "    name = input(\"Enter name = \")\n",
    "    age = int(input(\"Enter age = \"))\n",
    "    add = input(\"Enter add = \")\n",
    "    d['name'].append(name)\n",
    "    d['age'].append(age)\n",
    "    d['add'].append(add)\n",
    "    \n",
    "print(d)\n",
    "   "
   ]
  },
  {
   "cell_type": "code",
   "execution_count": 71,
   "id": "7eabe059",
   "metadata": {},
   "outputs": [
    {
     "name": "stdout",
     "output_type": "stream",
     "text": [
      "Enter n = 2\n",
      "Enter name = jatin\n",
      "Enter age = 20\n",
      "Enter add = ktm\n",
      "Enter name = liam\n",
      "Enter age = 1\n",
      "Enter add = ger\n",
      "[{'name': 'jatin', 'age': 20, 'add': 'ktm'}, {'name': 'liam', 'age': 1, 'add': 'ger'}]\n"
     ]
    }
   ],
   "source": [
    "# WAP to create dict inside list with CRUD \n",
    "l = []\n",
    "n = int(input(\"Enter n = \"))\n",
    "for i in range(n):\n",
    "    name = input(\"Enter name = \")\n",
    "    age = int(input(\"Enter age = \"))\n",
    "    add = input(\"Enter add = \")\n",
    "    data = {'name':name,'age':age,'add':add}\n",
    "    l.append(data)\n",
    "\n",
    "print(l)"
   ]
  },
  {
   "cell_type": "code",
   "execution_count": 72,
   "id": "35765de1",
   "metadata": {},
   "outputs": [
    {
     "name": "stdout",
     "output_type": "stream",
     "text": [
      "Enter n = 2\n",
      "Enter name = jatin\n",
      "Enter age = 20\n",
      "Enter add = ktm\n",
      "Enter name = liam\n",
      "Enter age = 1\n",
      "Enter add = germanny\n",
      "{0: {'name': 'jatin', 'age': 20, 'add': 'ktm'}, 1: {'name': 'liam', 'age': 1, 'add': 'germanny'}}\n"
     ]
    }
   ],
   "source": [
    "# WAP to create dict inside dict with CRUD\n",
    "d = {}\n",
    "n = int(input(\"Enter n = \"))\n",
    "for i in range(n):\n",
    "    name = input(\"Enter name = \")\n",
    "    age = int(input(\"Enter age = \"))\n",
    "    add = input(\"Enter add = \")\n",
    "    d[i] = {'name':name,'age':age,'add':add}\n",
    "    \n",
    "print(d)"
   ]
  },
  {
   "cell_type": "code",
   "execution_count": null,
   "id": "3d6cc34e",
   "metadata": {},
   "outputs": [],
   "source": []
  }
 ],
 "metadata": {
  "kernelspec": {
   "display_name": "Python 3 (ipykernel)",
   "language": "python",
   "name": "python3"
  },
  "language_info": {
   "codemirror_mode": {
    "name": "ipython",
    "version": 3
   },
   "file_extension": ".py",
   "mimetype": "text/x-python",
   "name": "python",
   "nbconvert_exporter": "python",
   "pygments_lexer": "ipython3",
   "version": "3.10.9"
  }
 },
 "nbformat": 4,
 "nbformat_minor": 5
}
