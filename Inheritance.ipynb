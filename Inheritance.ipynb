{
 "cells": [
  {
   "cell_type": "code",
   "execution_count": 1,
   "id": "1c68becb",
   "metadata": {},
   "outputs": [],
   "source": [
    "# class A:\n",
    "#     pass\n",
    "# class B(A):\n",
    "#     pass\n",
    "\n",
    "# obj = B()"
   ]
  },
  {
   "cell_type": "code",
   "execution_count": null,
   "id": "b98b3891",
   "metadata": {},
   "outputs": [],
   "source": [
    "class Info:\n",
    "    def __init__(self):\n",
    "        self.name = input(\"Enter name = \")\n",
    "        self.age = int(input(\"Enter age = \"))\n",
    "        self.add = input(\"Enter add = \")\n",
    "    def info(self):\n",
    "        print(self.name,self.age,self.add)\n",
    "        \n",
    "class Data(Info):\n",
    "    def data(self):\n",
    "        return f\"Hello World I am {self.name}. I am from {self.add}. I am {self.age}\"\n",
    "   \n",
    "obj = Data()\n",
    "print(obj.data())\n",
    "obj.info()"
   ]
  },
  {
   "cell_type": "code",
   "execution_count": 1,
   "id": "925eff89",
   "metadata": {},
   "outputs": [
    {
     "name": "stdout",
     "output_type": "stream",
     "text": [
      "Enter name = jatin\n",
      "Enter age = 20\n",
      "Enter add = ktm\n",
      "Hello World I am jatin. I am from ktm. I am 20\n",
      "jatin 20 ktm\n"
     ]
    }
   ],
   "source": [
    "class Info:\n",
    "    def __init__(self,name,age,add):\n",
    "        self.name = name\n",
    "        self.age = age\n",
    "        self.add = add\n",
    "       \n",
    "    def info(self):\n",
    "        print(self.name,self.age,self.add)\n",
    "        \n",
    "class Data(Info):\n",
    "    def data(self):\n",
    "        return f\"Hello World I am {self.name}. I am from {self.add}. I am {self.age}\"\n",
    "   \n",
    "\n",
    "name = input(\"Enter name = \")\n",
    "age = int(input(\"Enter age = \"))\n",
    "add = input(\"Enter add = \")\n",
    "obj = Data(name,age,add)\n",
    "print(obj.data())\n",
    "obj.info()"
   ]
  },
  {
   "cell_type": "code",
   "execution_count": null,
   "id": "30f7f391",
   "metadata": {},
   "outputs": [],
   "source": [
    "# Multilevel\n",
    "class A:\n",
    "    pass\n",
    "\n",
    "class B(A):\n",
    "    pass\n",
    "\n",
    "class C(B):\n",
    "    pass\n",
    "\n",
    "obj = c()\n"
   ]
  },
  {
   "cell_type": "code",
   "execution_count": null,
   "id": "a6a07303",
   "metadata": {},
   "outputs": [],
   "source": [
    "# multiple\n",
    "class A:\n",
    "    pass\n",
    "\n",
    "class B:\n",
    "    pass\n",
    "\n",
    "class C(A,B):\n",
    "    pass\n",
    "\n",
    "obj = c()"
   ]
  },
  {
   "cell_type": "code",
   "execution_count": 2,
   "id": "8beaefdf",
   "metadata": {},
   "outputs": [
    {
     "name": "stdout",
     "output_type": "stream",
     "text": [
      "Enter name = jatin\n",
      "Enter age = 2\n",
      "Enter add = ktm\n",
      "Hello World I am jatin. I am from ktm. I am 2\n",
      "jatin 2 ktm\n"
     ]
    }
   ],
   "source": [
    "class Info:\n",
    "    def __init__(self,age,add):\n",
    "        self.age = age\n",
    "        self.add = add\n",
    "       \n",
    "    def info(self):\n",
    "        print(self.name,self.age,self.add)\n",
    "        \n",
    "class Data(Info):\n",
    "    def __init__(self,name,age,add):\n",
    "        self.name = name\n",
    "        Info.__init__(self,age,add)\n",
    "    def data(self):\n",
    "        return f\"Hello World I am {self.name}. I am from {self.add}. I am {self.age}\"\n",
    "   \n",
    "\n",
    "name = input(\"Enter name = \")\n",
    "age = int(input(\"Enter age = \"))\n",
    "add = input(\"Enter add = \")\n",
    "obj = Data(name,age,add)\n",
    "print(obj.data())\n",
    "obj.info()"
   ]
  },
  {
   "cell_type": "code",
   "execution_count": 5,
   "id": "8a6bd435",
   "metadata": {},
   "outputs": [
    {
     "name": "stdout",
     "output_type": "stream",
     "text": [
      "Enter name = jatin\n",
      "Enter age = 28\n",
      "Enter add = US\n",
      "Hello World I am jatin. I am from US. I am 28\n",
      "jatin 28 US\n"
     ]
    }
   ],
   "source": [
    "#Multilevel\n",
    "\n",
    "class Address:\n",
    "    def __init__(self,add):\n",
    "        self.add = add\n",
    "\n",
    "class Info(Address):\n",
    "    def __init__(self,age,add):\n",
    "        self.age = age\n",
    "        Address.__init__(self,add)\n",
    "       \n",
    "    def info(self):\n",
    "        print(self.name,self.age,self.add)\n",
    "        \n",
    "class Data(Info):\n",
    "    def __init__(self,name,age,add):\n",
    "        self.name = name\n",
    "        Info.__init__(self,age,add)\n",
    "    def data(self):\n",
    "        return f\"Hello World I am {self.name}. I am from {self.add}. I am {self.age}\"\n",
    "   \n",
    "\n",
    "name = input(\"Enter name = \")\n",
    "age = int(input(\"Enter age = \"))\n",
    "add = input(\"Enter add = \")\n",
    "obj = Data(name,age,add)\n",
    "print(obj.data())\n",
    "obj.info()"
   ]
  },
  {
   "cell_type": "code",
   "execution_count": 4,
   "id": "6af2c4a4",
   "metadata": {},
   "outputs": [
    {
     "name": "stdout",
     "output_type": "stream",
     "text": [
      "Enter name = jatin\n",
      "Enter age = 30 \n",
      "Enter add = us\n",
      "Hello World I am jatin. I am from us. I am 30\n",
      "30\n"
     ]
    }
   ],
   "source": [
    "class Address:\n",
    "    def __init__(self,add):\n",
    "        self.add = add\n",
    "    def add(self):\n",
    "        print(self.add)\n",
    "class Age:\n",
    "    def __init__(self,age):\n",
    "        self.age = age\n",
    "    \n",
    "       \n",
    "    def info(self):\n",
    "        print(self.age)\n",
    "        \n",
    "class Data(Address,Age):\n",
    "    def __init__(self,name,age,add):\n",
    "        self.name = name\n",
    "        Age.__init__(self,age)\n",
    "        Address.__init__(self,add)\n",
    "        \n",
    "    def data(self):\n",
    "        return f\"Hello World I am {self.name}. I am from {self.add}. I am {self.age}\"\n",
    "   \n",
    "\n",
    "name = input(\"Enter name = \")\n",
    "age = int(input(\"Enter age = \"))\n",
    "add = input(\"Enter add = \")\n",
    "obj = Data(name,age,add)\n",
    "print(obj.data())\n",
    "obj.info()"
   ]
  },
  {
   "cell_type": "code",
   "execution_count": null,
   "id": "7aed653d",
   "metadata": {},
   "outputs": [],
   "source": []
  }
 ],
 "metadata": {
  "kernelspec": {
   "display_name": "Python 3 (ipykernel)",
   "language": "python",
   "name": "python3"
  },
  "language_info": {
   "codemirror_mode": {
    "name": "ipython",
    "version": 3
   },
   "file_extension": ".py",
   "mimetype": "text/x-python",
   "name": "python",
   "nbconvert_exporter": "python",
   "pygments_lexer": "ipython3",
   "version": "3.10.9"
  }
 },
 "nbformat": 4,
 "nbformat_minor": 5
}
