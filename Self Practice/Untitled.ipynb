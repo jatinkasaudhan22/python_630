{
 "cells": [
  {
   "cell_type": "code",
   "execution_count": 6,
   "id": "82d14917",
   "metadata": {},
   "outputs": [
    {
     "name": "stdout",
     "output_type": "stream",
     "text": [
      "True\n"
     ]
    }
   ],
   "source": [
    "class Student:\n",
    "    def check_pass_fail(self):\n",
    "        if self.marks >= 40:\n",
    "             return True\n",
    "        else:\n",
    "          return False\n",
    "\n",
    "student1 = Student()\n",
    "student1.name = \"Harry\"\n",
    "student1.marks = 83\n",
    "\n",
    "did_pass = student1.check_pass_fail()\n",
    "print(did_pass)\n"
   ]
  },
  {
   "cell_type": "code",
   "execution_count": null,
   "id": "6edca0f5",
   "metadata": {},
   "outputs": [],
   "source": []
  }
 ],
 "metadata": {
  "kernelspec": {
   "display_name": "Python 3 (ipykernel)",
   "language": "python",
   "name": "python3"
  },
  "language_info": {
   "codemirror_mode": {
    "name": "ipython",
    "version": 3
   },
   "file_extension": ".py",
   "mimetype": "text/x-python",
   "name": "python",
   "nbconvert_exporter": "python",
   "pygments_lexer": "ipython3",
   "version": "3.10.9"
  }
 },
 "nbformat": 4,
 "nbformat_minor": 5
}
