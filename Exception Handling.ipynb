{
 "cells": [
  {
   "cell_type": "code",
   "execution_count": 1,
   "id": "1679604a",
   "metadata": {},
   "outputs": [
    {
     "name": "stdout",
     "output_type": "stream",
     "text": [
      "Enter age = 10\n",
      "10\n"
     ]
    }
   ],
   "source": [
    "try: \n",
    "    x = int(input(\"Enter age = \"))\n",
    "    print(x)\n",
    "except:\n",
    "    print(\"some error occured\")"
   ]
  },
  {
   "cell_type": "code",
   "execution_count": 2,
   "id": "d4d86b97",
   "metadata": {},
   "outputs": [
    {
     "name": "stdout",
     "output_type": "stream",
     "text": [
      "Enter age = ten\n",
      "some error occured\n"
     ]
    }
   ],
   "source": [
    "try: \n",
    "    x = int(input(\"Enter age = \"))\n",
    "    print(x)\n",
    "except:\n",
    "    print(\"some error occured\")\n",
    "    "
   ]
  },
  {
   "cell_type": "code",
   "execution_count": 3,
   "id": "4430ef59",
   "metadata": {},
   "outputs": [
    {
     "name": "stdout",
     "output_type": "stream",
     "text": [
      "Enter age = asddfj\n"
     ]
    },
    {
     "ename": "ValueError",
     "evalue": "invalid literal for int() with base 10: 'asddfj'",
     "output_type": "error",
     "traceback": [
      "\u001b[1;31m---------------------------------------------------------------------------\u001b[0m",
      "\u001b[1;31mValueError\u001b[0m                                Traceback (most recent call last)",
      "Cell \u001b[1;32mIn[3], line 1\u001b[0m\n\u001b[1;32m----> 1\u001b[0m x \u001b[38;5;241m=\u001b[39m \u001b[38;5;28;43mint\u001b[39;49m\u001b[43m(\u001b[49m\u001b[38;5;28;43minput\u001b[39;49m\u001b[43m(\u001b[49m\u001b[38;5;124;43m\"\u001b[39;49m\u001b[38;5;124;43mEnter age = \u001b[39;49m\u001b[38;5;124;43m\"\u001b[39;49m\u001b[43m)\u001b[49m\u001b[43m)\u001b[49m\n",
      "\u001b[1;31mValueError\u001b[0m: invalid literal for int() with base 10: 'asddfj'"
     ]
    }
   ],
   "source": [
    "x = int(input(\"Enter age = \"))"
   ]
  },
  {
   "cell_type": "code",
   "execution_count": 5,
   "id": "1051cddb",
   "metadata": {},
   "outputs": [
    {
     "ename": "ZeroDivisionError",
     "evalue": "division by zero",
     "output_type": "error",
     "traceback": [
      "\u001b[1;31m---------------------------------------------------------------------------\u001b[0m",
      "\u001b[1;31mZeroDivisionError\u001b[0m                         Traceback (most recent call last)",
      "Cell \u001b[1;32mIn[5], line 1\u001b[0m\n\u001b[1;32m----> 1\u001b[0m \u001b[38;5;241;43m10\u001b[39;49m\u001b[43m \u001b[49m\u001b[38;5;241;43m/\u001b[39;49m\u001b[43m \u001b[49m\u001b[38;5;241;43m0\u001b[39;49m\n",
      "\u001b[1;31mZeroDivisionError\u001b[0m: division by zero"
     ]
    }
   ],
   "source": [
    "10 / 0"
   ]
  },
  {
   "cell_type": "code",
   "execution_count": 15,
   "id": "c23daeda",
   "metadata": {},
   "outputs": [
    {
     "name": "stdout",
     "output_type": "stream",
     "text": [
      "Enter a = sdfasf\n",
      "Please enter int value\n",
      "Enter a = sdsjdlf\n",
      "Please enter int value\n",
      "Enter a = dfdjdg\n",
      "Please enter int value\n",
      "Enter a = dgdgj\n",
      "Please enter int value\n",
      "Enter a = efege\n",
      "Please enter int value\n",
      "Enter a = ggee\n",
      "Please enter int value\n",
      "Enter a = 10\n",
      "Enter b = 5\n",
      "2.0\n",
      "You have attempted 7 times \n"
     ]
    }
   ],
   "source": [
    "c = 1\n",
    "\n",
    "def cal():\n",
    "    global c \n",
    "    try: \n",
    "        a = int(input(\"Enter a = \"))\n",
    "        b = int(input(\"Enter b = \"))\n",
    "        x = a/b\n",
    "        print(x)\n",
    "\n",
    "    except ValueError:\n",
    "        print(\"Please enter int value\")\n",
    "        c = c+1\n",
    "        cal()\n",
    "    except ZeroDivisionError:\n",
    "        print(\"The value of b cannot be zero\")\n",
    "        c = c+1\n",
    "        cal()\n",
    "\n",
    "cal()\n",
    "print(f\"You have attempted {c} times \")"
   ]
  },
  {
   "cell_type": "code",
   "execution_count": 19,
   "id": "c42cb963",
   "metadata": {},
   "outputs": [
    {
     "name": "stdout",
     "output_type": "stream",
     "text": [
      "Enter a = 10\n",
      "Enter b = 2\n",
      "5.0\n"
     ]
    }
   ],
   "source": [
    "try: \n",
    "    a = int(input(\"Enter a = \"))\n",
    "    b = int(input(\"Enter b = \"))\n",
    "    x = a/b\n",
    "        \n",
    "\n",
    "except ValueError:\n",
    "    print(\"Please enter int value\")\n",
    "except ZeroDivisionError:\n",
    "    print(\"The value of b cannot be zero\")\n",
    "else:\n",
    "    print(x)"
   ]
  },
  {
   "cell_type": "code",
   "execution_count": null,
   "id": "cc3d30f4",
   "metadata": {},
   "outputs": [],
   "source": [
    "a = int(input(\"Enter number = \"))\n",
    "assert a>=5\n",
    "print(You entere)"
   ]
  },
  {
   "cell_type": "code",
   "execution_count": 22,
   "id": "b3019845",
   "metadata": {},
   "outputs": [
    {
     "ename": "AssertionError",
     "evalue": "",
     "output_type": "error",
     "traceback": [
      "\u001b[1;31m---------------------------------------------------------------------------\u001b[0m",
      "\u001b[1;31mAssertionError\u001b[0m                            Traceback (most recent call last)",
      "Cell \u001b[1;32mIn[22], line 1\u001b[0m\n\u001b[1;32m----> 1\u001b[0m \u001b[38;5;28;01massert\u001b[39;00m \u001b[38;5;241m10\u001b[39m \u001b[38;5;241m>\u001b[39m\u001b[38;5;241m=\u001b[39m \u001b[38;5;241m18\u001b[39m\n",
      "\u001b[1;31mAssertionError\u001b[0m: "
     ]
    }
   ],
   "source": [
    "assert 10 >= 18"
   ]
  },
  {
   "cell_type": "code",
   "execution_count": 1,
   "id": "726897fb",
   "metadata": {},
   "outputs": [
    {
     "name": "stdout",
     "output_type": "stream",
     "text": [
      "Enter age = 10\n",
      "Age =  10\n",
      "The age should be >= 18\n"
     ]
    }
   ],
   "source": [
    "try:\n",
    "    age = int(input(\"Enter age = \"))\n",
    "    print(\"Age = \",age)\n",
    "    assert age >=18\n",
    "    \n",
    "except AssertionError:\n",
    "       print(\"The age should be >= 18\") \n",
    "except :\n",
    "    print(\"Some eror occured\")\n",
    "else:\n",
    "      print(\"You entered age =\",age)\n",
    "    "
   ]
  },
  {
   "cell_type": "markdown",
   "id": "0fa0c455",
   "metadata": {},
   "source": [
    "# "
   ]
  }
 ],
 "metadata": {
  "kernelspec": {
   "display_name": "Python 3 (ipykernel)",
   "language": "python",
   "name": "python3"
  },
  "language_info": {
   "codemirror_mode": {
    "name": "ipython",
    "version": 3
   },
   "file_extension": ".py",
   "mimetype": "text/x-python",
   "name": "python",
   "nbconvert_exporter": "python",
   "pygments_lexer": "ipython3",
   "version": "3.10.9"
  }
 },
 "nbformat": 4,
 "nbformat_minor": 5
}
